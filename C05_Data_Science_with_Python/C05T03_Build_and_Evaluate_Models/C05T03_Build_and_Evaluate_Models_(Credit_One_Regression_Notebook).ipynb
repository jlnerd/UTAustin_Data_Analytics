{
 "cells": [
  {
   "cell_type": "markdown",
   "metadata": {},
   "source": [
    "# Your Task"
   ]
  },
  {
   "cell_type": "markdown",
   "metadata": {},
   "source": [
    "__FROM:__ Guido Rossum<br>\n",
    "__Subject:__ Building the Models\n",
    "\n",
    "Hi,\n",
    "\n",
    "Now that you have successfully imported, prepared and explored the data you are ready to start exploring some possible tools for your analysis. When you worked in R you used the caret package for many of your machine learning and data mining tasks. Python has a similar library called Sci-Kit Learn that the client has specifically asked us to use because it is likely to be compatible a custom software solution they plan to deploy.\n",
    "\n",
    "In this task you’ll build your models just as you have done previously, but with a different set of tools. As you progress remember the following:\n",
    "\n",
    "1. Let the data tell the story – don't make any assumptions.\n",
    "2. It is often best to build three or more models and compare the results.\n",
    "3. Make sure you have chosen the correct tools for the type of data you have.\n",
    "\n",
    "I suggest you start this task with a quick orientation on Sci-Kit Learn to become familiar with the benefits of using it and how to use it effectively for this project. \n",
    "\n",
    "GR \n",
    "\n",
    "Guido Rossum\n",
    "Senior Data Scientist\n",
    "Credit One\n",
    "www.creditonellc.com"
   ]
  },
  {
   "cell_type": "markdown",
   "metadata": {},
   "source": [
    "# Introduction"
   ]
  },
  {
   "cell_type": "markdown",
   "metadata": {},
   "source": [
    "Now that you have properly prepared and thoroughly explored the data it's time to begin the modeling process. Throughout this task will examine feature selection and model building through the use of the Python module called Sci-Kit Learn. Is very important for you to understand that this task uses the CreditOne data in a regression type problem, but your final analysis will be centered on classification. The steps will be very similar, but you will need to replicate and them in a different way and obviously on different features and variables. Let's get started with an introduction to Sci-Kit Learn and how it differs from what you've already done with caret and R."
   ]
  },
  {
   "cell_type": "markdown",
   "metadata": {},
   "source": [
    "# Install Libs"
   ]
  },
  {
   "cell_type": "code",
   "execution_count": 1,
   "metadata": {
    "scrolled": true
   },
   "outputs": [],
   "source": [
    "!pip install imblearn\n",
    "!pip install JLpyUtils==0.2.2\n",
    "\n",
    "import IPython\n",
    "IPython.display.clear_output()"
   ]
  },
  {
   "cell_type": "markdown",
   "metadata": {},
   "source": [
    "# Import Libs"
   ]
  },
  {
   "cell_type": "code",
   "execution_count": 2,
   "metadata": {
    "ExecuteTime": {
     "end_time": "2019-08-18T17:56:10.265833Z",
     "start_time": "2019-08-18T17:56:08.952764Z"
    }
   },
   "outputs": [
    {
     "name": "stderr",
     "output_type": "stream",
     "text": [
      "/opt/conda/lib/python3.7/site-packages/tensorflow/python/framework/dtypes.py:516: FutureWarning: Passing (type, 1) or '1type' as a synonym of type is deprecated; in a future version of numpy, it will be understood as (type, (1,)) / '(1,)type'.\n",
      "  _np_qint8 = np.dtype([(\"qint8\", np.int8, 1)])\n",
      "/opt/conda/lib/python3.7/site-packages/tensorflow/python/framework/dtypes.py:517: FutureWarning: Passing (type, 1) or '1type' as a synonym of type is deprecated; in a future version of numpy, it will be understood as (type, (1,)) / '(1,)type'.\n",
      "  _np_quint8 = np.dtype([(\"quint8\", np.uint8, 1)])\n",
      "/opt/conda/lib/python3.7/site-packages/tensorflow/python/framework/dtypes.py:518: FutureWarning: Passing (type, 1) or '1type' as a synonym of type is deprecated; in a future version of numpy, it will be understood as (type, (1,)) / '(1,)type'.\n",
      "  _np_qint16 = np.dtype([(\"qint16\", np.int16, 1)])\n",
      "/opt/conda/lib/python3.7/site-packages/tensorflow/python/framework/dtypes.py:519: FutureWarning: Passing (type, 1) or '1type' as a synonym of type is deprecated; in a future version of numpy, it will be understood as (type, (1,)) / '(1,)type'.\n",
      "  _np_quint16 = np.dtype([(\"quint16\", np.uint16, 1)])\n",
      "/opt/conda/lib/python3.7/site-packages/tensorflow/python/framework/dtypes.py:520: FutureWarning: Passing (type, 1) or '1type' as a synonym of type is deprecated; in a future version of numpy, it will be understood as (type, (1,)) / '(1,)type'.\n",
      "  _np_qint32 = np.dtype([(\"qint32\", np.int32, 1)])\n",
      "/opt/conda/lib/python3.7/site-packages/tensorflow/python/framework/dtypes.py:525: FutureWarning: Passing (type, 1) or '1type' as a synonym of type is deprecated; in a future version of numpy, it will be understood as (type, (1,)) / '(1,)type'.\n",
      "  np_resource = np.dtype([(\"resource\", np.ubyte, 1)])\n",
      "/opt/conda/lib/python3.7/site-packages/tensorboard/compat/tensorflow_stub/dtypes.py:541: FutureWarning: Passing (type, 1) or '1type' as a synonym of type is deprecated; in a future version of numpy, it will be understood as (type, (1,)) / '(1,)type'.\n",
      "  _np_qint8 = np.dtype([(\"qint8\", np.int8, 1)])\n",
      "/opt/conda/lib/python3.7/site-packages/tensorboard/compat/tensorflow_stub/dtypes.py:542: FutureWarning: Passing (type, 1) or '1type' as a synonym of type is deprecated; in a future version of numpy, it will be understood as (type, (1,)) / '(1,)type'.\n",
      "  _np_quint8 = np.dtype([(\"quint8\", np.uint8, 1)])\n",
      "/opt/conda/lib/python3.7/site-packages/tensorboard/compat/tensorflow_stub/dtypes.py:543: FutureWarning: Passing (type, 1) or '1type' as a synonym of type is deprecated; in a future version of numpy, it will be understood as (type, (1,)) / '(1,)type'.\n",
      "  _np_qint16 = np.dtype([(\"qint16\", np.int16, 1)])\n",
      "/opt/conda/lib/python3.7/site-packages/tensorboard/compat/tensorflow_stub/dtypes.py:544: FutureWarning: Passing (type, 1) or '1type' as a synonym of type is deprecated; in a future version of numpy, it will be understood as (type, (1,)) / '(1,)type'.\n",
      "  _np_quint16 = np.dtype([(\"quint16\", np.uint16, 1)])\n",
      "/opt/conda/lib/python3.7/site-packages/tensorboard/compat/tensorflow_stub/dtypes.py:545: FutureWarning: Passing (type, 1) or '1type' as a synonym of type is deprecated; in a future version of numpy, it will be understood as (type, (1,)) / '(1,)type'.\n",
      "  _np_qint32 = np.dtype([(\"qint32\", np.int32, 1)])\n",
      "/opt/conda/lib/python3.7/site-packages/tensorboard/compat/tensorflow_stub/dtypes.py:550: FutureWarning: Passing (type, 1) or '1type' as a synonym of type is deprecated; in a future version of numpy, it will be understood as (type, (1,)) / '(1,)type'.\n",
      "  np_resource = np.dtype([(\"resource\", np.ubyte, 1)])\n"
     ]
    }
   ],
   "source": [
    "import sys, os, warnings, importlib\n",
    "import numpy as np\n",
    "import pandas as pd\n",
    "import matplotlib.pyplot as plt\n",
    "import matplotlib as mpl\n",
    "import scipy\n",
    "import sklearn, sklearn.preprocessing, sklearn.linear_model, sklearn.datasets, sklearn.tree, sklearn.svm, sklearn.metrics, sklearn.ensemble, sklearn.model_selection\n",
    "import imblearn"
   ]
  },
  {
   "cell_type": "code",
   "execution_count": 4,
   "metadata": {
    "scrolled": true
   },
   "outputs": [
    {
     "name": "stdout",
     "output_type": "stream",
     "text": [
      "You are in development mode. Using local copy of JLpyUtils from the repo\n"
     ]
    }
   ],
   "source": [
    "import JLpyUtils\n",
    "JLpyUtils.__version__"
   ]
  },
  {
   "cell_type": "code",
   "execution_count": 5,
   "metadata": {},
   "outputs": [
    {
     "data": {
      "text/plain": [
       "'0.2.2'"
      ]
     },
     "execution_count": 5,
     "metadata": {},
     "output_type": "execute_result"
    }
   ],
   "source": []
  },
  {
   "cell_type": "code",
   "execution_count": 6,
   "metadata": {},
   "outputs": [],
   "source": [
    "pd.options.display.max_columns = 1000\n",
    "mpl.rcParams['font.size'] = 14"
   ]
  },
  {
   "cell_type": "markdown",
   "metadata": {
    "heading_collapsed": true
   },
   "source": [
    "# Selecting and Dividing the Data"
   ]
  },
  {
   "cell_type": "markdown",
   "metadata": {
    "hidden": true
   },
   "source": [
    "## Introduction to Sci-Kit Learn"
   ]
  },
  {
   "cell_type": "markdown",
   "metadata": {
    "hidden": true
   },
   "source": [
    "You have already installed the Sci-Kit Learn library on your machine so take a few minutes and come up to speed on how to use it. As you'll see it is not very different from using caret in R, but there are a few key differences, specifically:\n",
    "\n",
    "1. It is much faster than caret in R\n",
    "2. The pipeline is easier to work with\n",
    "3. Models can easily be serialized for deployment \n",
    "4. More more metrics are available\n",
    "5. Feature and variable selection is in the form of indices\n",
    "6. Data is stored and accessed in arrays consisting of samples and features"
   ]
  },
  {
   "cell_type": "markdown",
   "metadata": {
    "heading_collapsed": true,
    "hidden": true
   },
   "source": [
    "## Data Structure"
   ]
  },
  {
   "cell_type": "markdown",
   "metadata": {
    "ExecuteTime": {
     "end_time": "2019-08-18T05:38:01.250512Z",
     "start_time": "2019-08-18T05:38:01.246219Z"
    },
    "hidden": true
   },
   "source": [
    "Import the data 'default of credit card clients.csv' data"
   ]
  },
  {
   "cell_type": "code",
   "execution_count": 7,
   "metadata": {
    "ExecuteTime": {
     "end_time": "2019-08-18T17:56:10.391411Z",
     "start_time": "2019-08-18T17:56:10.273371Z"
    },
    "hidden": true
   },
   "outputs": [
    {
     "data": {
      "text/html": [
       "<div>\n",
       "<style scoped>\n",
       "    .dataframe tbody tr th:only-of-type {\n",
       "        vertical-align: middle;\n",
       "    }\n",
       "\n",
       "    .dataframe tbody tr th {\n",
       "        vertical-align: top;\n",
       "    }\n",
       "\n",
       "    .dataframe thead th {\n",
       "        text-align: right;\n",
       "    }\n",
       "</style>\n",
       "<table border=\"1\" class=\"dataframe\">\n",
       "  <thead>\n",
       "    <tr style=\"text-align: right;\">\n",
       "      <th></th>\n",
       "      <th>ID</th>\n",
       "      <th>LIMIT_BAL</th>\n",
       "      <th>SEX</th>\n",
       "      <th>EDUCATION</th>\n",
       "      <th>MARRIAGE</th>\n",
       "      <th>AGE</th>\n",
       "      <th>PAY_0</th>\n",
       "      <th>PAY_2</th>\n",
       "      <th>PAY_3</th>\n",
       "      <th>PAY_4</th>\n",
       "      <th>PAY_5</th>\n",
       "      <th>PAY_6</th>\n",
       "      <th>BILL_AMT1</th>\n",
       "      <th>BILL_AMT2</th>\n",
       "      <th>BILL_AMT3</th>\n",
       "      <th>BILL_AMT4</th>\n",
       "      <th>BILL_AMT5</th>\n",
       "      <th>BILL_AMT6</th>\n",
       "      <th>PAY_AMT1</th>\n",
       "      <th>PAY_AMT2</th>\n",
       "      <th>PAY_AMT3</th>\n",
       "      <th>PAY_AMT4</th>\n",
       "      <th>PAY_AMT5</th>\n",
       "      <th>PAY_AMT6</th>\n",
       "      <th>default payment next month</th>\n",
       "    </tr>\n",
       "  </thead>\n",
       "  <tbody>\n",
       "    <tr>\n",
       "      <th>0</th>\n",
       "      <td>1</td>\n",
       "      <td>20000</td>\n",
       "      <td>2</td>\n",
       "      <td>2</td>\n",
       "      <td>1</td>\n",
       "      <td>24</td>\n",
       "      <td>2</td>\n",
       "      <td>2</td>\n",
       "      <td>-1</td>\n",
       "      <td>-1</td>\n",
       "      <td>-2</td>\n",
       "      <td>-2</td>\n",
       "      <td>3913</td>\n",
       "      <td>3102</td>\n",
       "      <td>689</td>\n",
       "      <td>0</td>\n",
       "      <td>0</td>\n",
       "      <td>0</td>\n",
       "      <td>0</td>\n",
       "      <td>689</td>\n",
       "      <td>0</td>\n",
       "      <td>0</td>\n",
       "      <td>0</td>\n",
       "      <td>0</td>\n",
       "      <td>1</td>\n",
       "    </tr>\n",
       "    <tr>\n",
       "      <th>1</th>\n",
       "      <td>2</td>\n",
       "      <td>120000</td>\n",
       "      <td>2</td>\n",
       "      <td>2</td>\n",
       "      <td>2</td>\n",
       "      <td>26</td>\n",
       "      <td>-1</td>\n",
       "      <td>2</td>\n",
       "      <td>0</td>\n",
       "      <td>0</td>\n",
       "      <td>0</td>\n",
       "      <td>2</td>\n",
       "      <td>2682</td>\n",
       "      <td>1725</td>\n",
       "      <td>2682</td>\n",
       "      <td>3272</td>\n",
       "      <td>3455</td>\n",
       "      <td>3261</td>\n",
       "      <td>0</td>\n",
       "      <td>1000</td>\n",
       "      <td>1000</td>\n",
       "      <td>1000</td>\n",
       "      <td>0</td>\n",
       "      <td>2000</td>\n",
       "      <td>1</td>\n",
       "    </tr>\n",
       "    <tr>\n",
       "      <th>2</th>\n",
       "      <td>3</td>\n",
       "      <td>90000</td>\n",
       "      <td>2</td>\n",
       "      <td>2</td>\n",
       "      <td>2</td>\n",
       "      <td>34</td>\n",
       "      <td>0</td>\n",
       "      <td>0</td>\n",
       "      <td>0</td>\n",
       "      <td>0</td>\n",
       "      <td>0</td>\n",
       "      <td>0</td>\n",
       "      <td>29239</td>\n",
       "      <td>14027</td>\n",
       "      <td>13559</td>\n",
       "      <td>14331</td>\n",
       "      <td>14948</td>\n",
       "      <td>15549</td>\n",
       "      <td>1518</td>\n",
       "      <td>1500</td>\n",
       "      <td>1000</td>\n",
       "      <td>1000</td>\n",
       "      <td>1000</td>\n",
       "      <td>5000</td>\n",
       "      <td>0</td>\n",
       "    </tr>\n",
       "    <tr>\n",
       "      <th>3</th>\n",
       "      <td>4</td>\n",
       "      <td>50000</td>\n",
       "      <td>2</td>\n",
       "      <td>2</td>\n",
       "      <td>1</td>\n",
       "      <td>37</td>\n",
       "      <td>0</td>\n",
       "      <td>0</td>\n",
       "      <td>0</td>\n",
       "      <td>0</td>\n",
       "      <td>0</td>\n",
       "      <td>0</td>\n",
       "      <td>46990</td>\n",
       "      <td>48233</td>\n",
       "      <td>49291</td>\n",
       "      <td>28314</td>\n",
       "      <td>28959</td>\n",
       "      <td>29547</td>\n",
       "      <td>2000</td>\n",
       "      <td>2019</td>\n",
       "      <td>1200</td>\n",
       "      <td>1100</td>\n",
       "      <td>1069</td>\n",
       "      <td>1000</td>\n",
       "      <td>0</td>\n",
       "    </tr>\n",
       "    <tr>\n",
       "      <th>4</th>\n",
       "      <td>5</td>\n",
       "      <td>50000</td>\n",
       "      <td>1</td>\n",
       "      <td>2</td>\n",
       "      <td>1</td>\n",
       "      <td>57</td>\n",
       "      <td>-1</td>\n",
       "      <td>0</td>\n",
       "      <td>-1</td>\n",
       "      <td>0</td>\n",
       "      <td>0</td>\n",
       "      <td>0</td>\n",
       "      <td>8617</td>\n",
       "      <td>5670</td>\n",
       "      <td>35835</td>\n",
       "      <td>20940</td>\n",
       "      <td>19146</td>\n",
       "      <td>19131</td>\n",
       "      <td>2000</td>\n",
       "      <td>36681</td>\n",
       "      <td>10000</td>\n",
       "      <td>9000</td>\n",
       "      <td>689</td>\n",
       "      <td>679</td>\n",
       "      <td>0</td>\n",
       "    </tr>\n",
       "  </tbody>\n",
       "</table>\n",
       "</div>"
      ],
      "text/plain": [
       "   ID  LIMIT_BAL  SEX  EDUCATION  MARRIAGE  AGE  PAY_0  PAY_2  PAY_3  PAY_4  \\\n",
       "0   1      20000    2          2         1   24      2      2     -1     -1   \n",
       "1   2     120000    2          2         2   26     -1      2      0      0   \n",
       "2   3      90000    2          2         2   34      0      0      0      0   \n",
       "3   4      50000    2          2         1   37      0      0      0      0   \n",
       "4   5      50000    1          2         1   57     -1      0     -1      0   \n",
       "\n",
       "   PAY_5  PAY_6  BILL_AMT1  BILL_AMT2  BILL_AMT3  BILL_AMT4  BILL_AMT5  \\\n",
       "0     -2     -2       3913       3102        689          0          0   \n",
       "1      0      2       2682       1725       2682       3272       3455   \n",
       "2      0      0      29239      14027      13559      14331      14948   \n",
       "3      0      0      46990      48233      49291      28314      28959   \n",
       "4      0      0       8617       5670      35835      20940      19146   \n",
       "\n",
       "   BILL_AMT6  PAY_AMT1  PAY_AMT2  PAY_AMT3  PAY_AMT4  PAY_AMT5  PAY_AMT6  \\\n",
       "0          0         0       689         0         0         0         0   \n",
       "1       3261         0      1000      1000      1000         0      2000   \n",
       "2      15549      1518      1500      1000      1000      1000      5000   \n",
       "3      29547      2000      2019      1200      1100      1069      1000   \n",
       "4      19131      2000     36681     10000      9000       689       679   \n",
       "\n",
       "   default payment next month  \n",
       "0                           1  \n",
       "1                           1  \n",
       "2                           0  \n",
       "3                           0  \n",
       "4                           0  "
      ]
     },
     "metadata": {},
     "output_type": "display_data"
    },
    {
     "name": "stdout",
     "output_type": "stream",
     "text": [
      "<class 'pandas.core.frame.DataFrame'>\n",
      "RangeIndex: 30000 entries, 0 to 29999\n",
      "Data columns (total 25 columns):\n",
      "ID                            30000 non-null int64\n",
      "LIMIT_BAL                     30000 non-null int64\n",
      "SEX                           30000 non-null int64\n",
      "EDUCATION                     30000 non-null int64\n",
      "MARRIAGE                      30000 non-null int64\n",
      "AGE                           30000 non-null int64\n",
      "PAY_0                         30000 non-null int64\n",
      "PAY_2                         30000 non-null int64\n",
      "PAY_3                         30000 non-null int64\n",
      "PAY_4                         30000 non-null int64\n",
      "PAY_5                         30000 non-null int64\n",
      "PAY_6                         30000 non-null int64\n",
      "BILL_AMT1                     30000 non-null int64\n",
      "BILL_AMT2                     30000 non-null int64\n",
      "BILL_AMT3                     30000 non-null int64\n",
      "BILL_AMT4                     30000 non-null int64\n",
      "BILL_AMT5                     30000 non-null int64\n",
      "BILL_AMT6                     30000 non-null int64\n",
      "PAY_AMT1                      30000 non-null int64\n",
      "PAY_AMT2                      30000 non-null int64\n",
      "PAY_AMT3                      30000 non-null int64\n",
      "PAY_AMT4                      30000 non-null int64\n",
      "PAY_AMT5                      30000 non-null int64\n",
      "PAY_AMT6                      30000 non-null int64\n",
      "default payment next month    30000 non-null int64\n",
      "dtypes: int64(25)\n",
      "memory usage: 5.7 MB\n"
     ]
    },
    {
     "data": {
      "text/plain": [
       "None"
      ]
     },
     "metadata": {},
     "output_type": "display_data"
    }
   ],
   "source": [
    "path_data_file = '../C05T01_Get_Started_With_Data_Science_and_Python/default of credit card clients.csv'\n",
    "path_report_folder = './outputs'\n",
    "\n",
    "df = pd.read_csv(path_data_file, header = 1)\n",
    "\n",
    "display(df.head())\n",
    "display(df.info())"
   ]
  },
  {
   "cell_type": "markdown",
   "metadata": {
    "heading_collapsed": true,
    "hidden": true
   },
   "source": [
    "## Selecting the Data"
   ]
  },
  {
   "cell_type": "markdown",
   "metadata": {
    "hidden": true
   },
   "source": [
    "Select the features"
   ]
  },
  {
   "cell_type": "code",
   "execution_count": 8,
   "metadata": {
    "ExecuteTime": {
     "end_time": "2019-08-18T17:56:10.397989Z",
     "start_time": "2019-08-18T17:56:10.393447Z"
    },
    "hidden": true
   },
   "outputs": [
    {
     "data": {
      "text/plain": [
       "{'features': ['BILL_AMT1',\n",
       "  'BILL_AMT2',\n",
       "  'BILL_AMT3',\n",
       "  'BILL_AMT4',\n",
       "  'BILL_AMT5',\n",
       "  'BILL_AMT6',\n",
       "  'PAY_AMT1',\n",
       "  'PAY_AMT2',\n",
       "  'PAY_AMT3',\n",
       "  'PAY_AMT4',\n",
       "  'PAY_AMT5'],\n",
       " 'labels': ['PAY_AMT6']}"
      ]
     },
     "metadata": {},
     "output_type": "display_data"
    }
   ],
   "source": [
    "headers_dict = {}\n",
    "headers_dict['features'] = list(df.iloc[:,12:23].columns)\n",
    "headers_dict['labels'] = ['PAY_AMT6']\n",
    "\n",
    "display(headers_dict)"
   ]
  },
  {
   "cell_type": "code",
   "execution_count": 9,
   "metadata": {
    "ExecuteTime": {
     "end_time": "2019-08-18T17:56:10.408608Z",
     "start_time": "2019-08-18T17:56:10.399636Z"
    },
    "hidden": true
   },
   "outputs": [],
   "source": [
    "X = df[headers_dict['features']]\n",
    "y = df[headers_dict['labels']]"
   ]
  },
  {
   "cell_type": "code",
   "execution_count": 10,
   "metadata": {
    "ExecuteTime": {
     "end_time": "2019-08-18T17:56:10.423458Z",
     "start_time": "2019-08-18T17:56:10.410325Z"
    },
    "hidden": true,
    "scrolled": true
   },
   "outputs": [
    {
     "name": "stdout",
     "output_type": "stream",
     "text": [
      "X_train.shape (22500, 11)\n",
      "y_train.shape (22500, 1)\n"
     ]
    }
   ],
   "source": [
    "X_train, X_test, y_train, y_test = sklearn.model_selection.train_test_split(X,y)\n",
    "print('X_train.shape',X_train.shape)\n",
    "print('y_train.shape',y_train.shape)"
   ]
  },
  {
   "cell_type": "markdown",
   "metadata": {
    "heading_collapsed": true,
    "hidden": true
   },
   "source": [
    "## Building the Models and Choosing the Right Model"
   ]
  },
  {
   "cell_type": "markdown",
   "metadata": {
    "hidden": true
   },
   "source": [
    "<font color='red'> Since I am already very familiar with sklearn, instead of following the exact details in the plan of attack, we will just leverage the custom python package I typically use for ML: [JLpy_utils_package](https://github.com/jlnerd/JLpy_utils_package)"
   ]
  },
  {
   "cell_type": "markdown",
   "metadata": {
    "heading_collapsed": true,
    "hidden": true
   },
   "source": [
    "### Fetch Models Dict"
   ]
  },
  {
   "cell_type": "code",
   "execution_count": 11,
   "metadata": {
    "ExecuteTime": {
     "end_time": "2019-08-18T17:56:12.268976Z",
     "start_time": "2019-08-18T17:56:12.099006Z"
    },
    "hidden": true
   },
   "outputs": [
    {
     "name": "stdout",
     "output_type": "stream",
     "text": [
      "models: ['Linear', 'SVM', 'KNN', 'DecisionTree', 'RandomForest', 'GradBoost', 'DenseNet']\n"
     ]
    }
   ],
   "source": [
    "n_features = len(headers_dict['features'])\n",
    "n_labels = len(headers_dict['labels'])\n",
    "models=['Linear', 'SVM', 'KNN', 'DecisionTree', 'RandomForest', 'GradBoost', 'DenseNet']\n",
    "print('models:',models)\n",
    "\n",
    "models_dict = JLpyUtils.ML.model_selection.default_models_dict.regression(n_features, n_labels, models)"
   ]
  },
  {
   "cell_type": "markdown",
   "metadata": {
    "hidden": true
   },
   "source": [
    "<font color='red'> Above, we see all the models we will evaluate against each other. Each model type of model is defined by a model_dict, which contains the model object itself (i.e. sklearn.tree.RandomForestRegressor()) and a param_grid, which defines some default/typical hyperparameters we will run a grid search across to find the best configuration for the particular model of interest"
   ]
  },
  {
   "cell_type": "markdown",
   "metadata": {
    "heading_collapsed": true,
    "hidden": true
   },
   "source": [
    "#### Reduce Size of param grid for some models"
   ]
  },
  {
   "cell_type": "code",
   "execution_count": 12,
   "metadata": {
    "hidden": true
   },
   "outputs": [
    {
     "data": {
      "text/plain": [
       "{'kernel': ['rbf', 'sigmoid']}"
      ]
     },
     "metadata": {},
     "output_type": "display_data"
    }
   ],
   "source": [
    "models_dict['SVM']['param_grid']['kernel'] = ['rbf', 'sigmoid']\n",
    "\n",
    "display(models_dict['SVM']['param_grid'])"
   ]
  },
  {
   "cell_type": "code",
   "execution_count": 13,
   "metadata": {
    "hidden": true
   },
   "outputs": [
    {
     "data": {
      "text/plain": [
       "{'n_features': [11],\n",
       " 'n_labels': [1],\n",
       " 'batch_size': [None],\n",
       " 'layers_per_group': [1, 2],\n",
       " 'initial_dense_unit_size': [11],\n",
       " 'dense_scaling_factor': [1.5],\n",
       " 'activation': ['elu'],\n",
       " 'final_activation': ['elu'],\n",
       " 'batch_norm_rate': [None],\n",
       " 'dropout_layer_rate': [None, 1, 2],\n",
       " 'dropout_rate': [0.1],\n",
       " 'loss': [<function tensorflow.python.keras.losses.mean_squared_error(y_true, y_pred)>],\n",
       " 'learning_rate': [0.001],\n",
       " 'optimizer': [tensorflow.python.keras.optimizer_v2.adam.Adam],\n",
       " 'metrics': [['mse']]}"
      ]
     },
     "metadata": {},
     "output_type": "display_data"
    }
   ],
   "source": [
    "for param in ['initial_dense_unit_size', 'dense_scaling_factor', 'activation', 'batch_norm_rate', 'dropout_rate']:\n",
    "    models_dict['DenseNet']['param_grid'][param] = [models_dict['DenseNet']['param_grid'][param][0]]\n",
    "    \n",
    "display(models_dict['DenseNet']['param_grid'])"
   ]
  },
  {
   "cell_type": "markdown",
   "metadata": {
    "heading_collapsed": true,
    "hidden": true
   },
   "source": [
    "### Run Grid Search CV"
   ]
  },
  {
   "cell_type": "code",
   "execution_count": 14,
   "metadata": {
    "ExecuteTime": {
     "end_time": "2019-08-20T14:47:03.252802Z",
     "start_time": "2019-08-20T08:02:53.777723Z"
    },
    "hidden": true,
    "scrolled": false
   },
   "outputs": [
    {
     "name": "stdout",
     "output_type": "stream",
     "text": [
      "\n",
      "---- Linear ----\n",
      "path_model_dir: ./outputs/GridSearchCV/Linear\n",
      "\tbest_cv_score: 0.12470468324977986\n",
      "\tbest_pred_score: 0.13361353409211008\n",
      "\t MSE : 262926441.41657093\n",
      "\t r2_score : 0.13361353409211008\n",
      "\n",
      "---- SVM ----\n",
      "path_model_dir: ./outputs/GridSearchCV/SVM\n",
      "\tbest_cv_score: -0.04429861679482485\n",
      "\tbest_pred_score: -0.04094857303981159\n",
      "\t MSE : 315901638.32973915\n",
      "\t r2_score : -0.04094857303981159\n",
      "\n",
      "---- KNN ----\n",
      "path_model_dir: ./outputs/GridSearchCV/KNN\n",
      "\tbest_cv_score: 0.09950610845763329\n",
      "\tbest_pred_score: 0.7612726206824733\n",
      "\t MSE : 72447738.72002561\n",
      "\t r2_score : 0.7612726206824733\n",
      "\n",
      "---- DecisionTree ----\n",
      "path_model_dir: ./outputs/GridSearchCV/DecisionTree\n",
      "\tbest_cv_score: 0.053812170960929884\n",
      "\tbest_pred_score: 0.1436387627539748\n",
      "\t MSE : 259884037.36229092\n",
      "\t r2_score : 0.1436387627539748\n",
      "\n",
      "---- RandomForest ----\n",
      "path_model_dir: ./outputs/GridSearchCV/RandomForest\n",
      "\tbest_cv_score: 0.12109617166534101\n",
      "\tbest_pred_score: 0.633220887753794\n",
      "\t MSE : 111308210.0927885\n",
      "\t r2_score : 0.633220887753794\n",
      "\n",
      "---- GradBoost ----\n",
      "path_model_dir: ./outputs/GridSearchCV/GradBoost\n",
      "\tbest_cv_score: 0.09145115764703089\n",
      "\tbest_pred_score: 0.6926296630441361\n",
      "\t MSE : 93279145.13083999\n",
      "\t r2_score : 0.6926296630441361\n",
      "\n",
      "---- DenseNet ----\n",
      "path_model_dir: ./outputs/GridSearchCV/DenseNet\n",
      "WARNING:tensorflow:From /opt/conda/lib/python3.7/site-packages/tensorflow/python/ops/init_ops.py:97: calling GlorotUniform.__init__ (from tensorflow.python.ops.init_ops) with dtype is deprecated and will be removed in a future version.\n",
      "Instructions for updating:\n",
      "Call initializer instance with the dtype argument instead of passing it to the constructor\n",
      "WARNING:tensorflow:From /opt/conda/lib/python3.7/site-packages/tensorflow/python/ops/init_ops.py:1251: calling VarianceScaling.__init__ (from tensorflow.python.ops.init_ops) with dtype is deprecated and will be removed in a future version.\n",
      "Instructions for updating:\n",
      "Call initializer instance with the dtype argument instead of passing it to the constructor\n",
      "WARNING:tensorflow:From /opt/conda/lib/python3.7/site-packages/tensorflow/python/ops/init_ops.py:97: calling Zeros.__init__ (from tensorflow.python.ops.init_ops) with dtype is deprecated and will be removed in a future version.\n",
      "Instructions for updating:\n",
      "Call initializer instance with the dtype argument instead of passing it to the constructor\n",
      "\tbest_cv_score: nan\n",
      "\tbest_pred_score: [327640244.7712, 327640260.0]\n",
      "\t MSE : 327640252.12324935\n",
      "\t r2_score : -0.07962926283435245\n"
     ]
    }
   ],
   "source": [
    "metrics = {'MSE':sklearn.metrics.mean_squared_error,\n",
    "           'r2_score': sklearn.metrics.r2_score}\n",
    "\n",
    "GridSearchCV = JLpyUtils.ML.model_selection.GridSearchCV( models_dict,\n",
    "                                                cv=5,\n",
    "                                                retrain=False,\n",
    "                                                metrics= metrics,\n",
    "                                                path_root_dir='./outputs/GridSearchCV',\n",
    "                                                n_jobs=-1,\n",
    "                                                verbose = 2,\n",
    "                                            )\n",
    "GridSearchCV.fit(X_train, y_train,\n",
    "                X_test, y_test)"
   ]
  },
  {
   "cell_type": "markdown",
   "metadata": {
    "heading_collapsed": true
   },
   "source": [
    "# Make Prediction and Evaluating the Results"
   ]
  },
  {
   "cell_type": "markdown",
   "metadata": {
    "hidden": true
   },
   "source": [
    "Now that you have chosen a model, let's use it to make predictions. \n",
    "\n",
    "Above we can see the R2 and MSE scores throughout the model GridSearch. The best model is the KNN, with an R2 of 0.718"
   ]
  },
  {
   "cell_type": "code",
   "execution_count": 15,
   "metadata": {
    "hidden": true,
    "scrolled": false
   },
   "outputs": [
    {
     "data": {
      "text/html": [
       "<div>\n",
       "<style scoped>\n",
       "    .dataframe tbody tr th:only-of-type {\n",
       "        vertical-align: middle;\n",
       "    }\n",
       "\n",
       "    .dataframe tbody tr th {\n",
       "        vertical-align: top;\n",
       "    }\n",
       "\n",
       "    .dataframe thead th {\n",
       "        text-align: right;\n",
       "    }\n",
       "</style>\n",
       "<table border=\"1\" class=\"dataframe\">\n",
       "  <thead>\n",
       "    <tr style=\"text-align: right;\">\n",
       "      <th></th>\n",
       "      <th>model</th>\n",
       "      <th>MSE</th>\n",
       "      <th>r2_score</th>\n",
       "    </tr>\n",
       "  </thead>\n",
       "  <tbody>\n",
       "    <tr>\n",
       "      <th>0</th>\n",
       "      <td>KNN</td>\n",
       "      <td>7.244774e+07</td>\n",
       "      <td>0.761273</td>\n",
       "    </tr>\n",
       "    <tr>\n",
       "      <th>1</th>\n",
       "      <td>GradBoost</td>\n",
       "      <td>9.327915e+07</td>\n",
       "      <td>0.692630</td>\n",
       "    </tr>\n",
       "    <tr>\n",
       "      <th>2</th>\n",
       "      <td>RandomForest</td>\n",
       "      <td>1.113082e+08</td>\n",
       "      <td>0.633221</td>\n",
       "    </tr>\n",
       "    <tr>\n",
       "      <th>3</th>\n",
       "      <td>DecisionTree</td>\n",
       "      <td>2.598840e+08</td>\n",
       "      <td>0.143639</td>\n",
       "    </tr>\n",
       "    <tr>\n",
       "      <th>4</th>\n",
       "      <td>Linear</td>\n",
       "      <td>2.629264e+08</td>\n",
       "      <td>0.133614</td>\n",
       "    </tr>\n",
       "    <tr>\n",
       "      <th>5</th>\n",
       "      <td>SVM</td>\n",
       "      <td>3.159016e+08</td>\n",
       "      <td>-0.040949</td>\n",
       "    </tr>\n",
       "    <tr>\n",
       "      <th>6</th>\n",
       "      <td>DenseNet</td>\n",
       "      <td>3.276403e+08</td>\n",
       "      <td>-0.079629</td>\n",
       "    </tr>\n",
       "  </tbody>\n",
       "</table>\n",
       "</div>"
      ],
      "text/plain": [
       "          model           MSE  r2_score\n",
       "0           KNN  7.244774e+07  0.761273\n",
       "1     GradBoost  9.327915e+07  0.692630\n",
       "2  RandomForest  1.113082e+08  0.633221\n",
       "3  DecisionTree  2.598840e+08  0.143639\n",
       "4        Linear  2.629264e+08  0.133614\n",
       "5           SVM  3.159016e+08 -0.040949\n",
       "6      DenseNet  3.276403e+08 -0.079629"
      ]
     },
     "metadata": {},
     "output_type": "display_data"
    }
   ],
   "source": [
    "_, df_metrics = JLpyUtils.ML.inspection.compare.model_metrics(GridSearchCV.models_dict, metrics)"
   ]
  },
  {
   "cell_type": "code",
   "execution_count": 16,
   "metadata": {
    "hidden": true
   },
   "outputs": [
    {
     "data": {
      "text/plain": [
       "KNeighborsRegressor(algorithm='ball_tree', leaf_size=30, metric='minkowski',\n",
       "                    metric_params=None, n_jobs=None, n_neighbors=100, p=2,\n",
       "                    weights='distance')"
      ]
     },
     "execution_count": 16,
     "metadata": {},
     "output_type": "execute_result"
    }
   ],
   "source": [
    "model = GridSearchCV.models_dict[df_metrics['model'].iloc[0]]['best_model']\n",
    "model"
   ]
  },
  {
   "cell_type": "code",
   "execution_count": 17,
   "metadata": {
    "hidden": true
   },
   "outputs": [
    {
     "data": {
      "image/png": "[encoded data removed]",
      "text/plain": [
       "<Figure size 432x288 with 1 Axes>"
      ]
     },
     "metadata": {},
     "output_type": "display_data"
    }
   ],
   "source": [
    "y_pred = model.predict(X_test)\n",
    "JLpyUtils.ML.inspection.plot.true_vs_pred(y_test, y_pred, 'test set')"
   ]
  },
  {
   "cell_type": "markdown",
   "metadata": {},
   "source": [
    "# The CreditOne Project and Writing Your Report"
   ]
  },
  {
   "cell_type": "markdown",
   "metadata": {},
   "source": [
    "Now you are ready to dive into the CreditOne data and apply what you've already learned to a classification problem; much of the work you have already done can be applied to this last task so know you're not starting completely from the beginning. \n",
    "\n",
    "One of the main objectives that separates Data Science from Data Analytics is creative problem-solving skills and many times Data Scientists will have to learn new skills just to solve a problem; you'll be doing the same thing here and stretching your existing knowledge by learning things that you have not been introduced to yet to solve the problem at hand.\n",
    "\n",
    "In addition to applying your new Python and Sci-Kit Learn skills you will also need to demonstrate that you can use the Sci-Kit Learn resources to perform some additional Data Science related skills. \n",
    "\n",
    "Here is the list of requirements that your data science process should include for your final report:\n",
    "\n",
    "1. Cleaning and Pre-processing\n",
    "2. Covariance Estimation\n",
    "3. EDA\n",
    "4. Feature Engineering (either PCA or RFE) and Dimensionality Reduction\n",
    "5. One-Hot Encoding (if needed)\n",
    "6. Classification (Build three model and choose the best)\n",
    "7. Model Tuning (Tune at least two parameters for each model you build)\n",
    "8. Model Evaluation"
   ]
  },
  {
   "cell_type": "markdown",
   "metadata": {},
   "source": [
    "# Final Pipe"
   ]
  },
  {
   "cell_type": "markdown",
   "metadata": {},
   "source": [
    "## Load Data"
   ]
  },
  {
   "cell_type": "code",
   "execution_count": 12,
   "metadata": {},
   "outputs": [
    {
     "name": "stdout",
     "output_type": "stream",
     "text": [
      "<class 'pandas.core.frame.DataFrame'>\n",
      "RangeIndex: 30000 entries, 0 to 29999\n",
      "Data columns (total 25 columns):\n",
      "ID                            30000 non-null int64\n",
      "LIMIT_BAL                     30000 non-null int64\n",
      "SEX                           30000 non-null int64\n",
      "EDUCATION                     30000 non-null int64\n",
      "MARRIAGE                      30000 non-null int64\n",
      "AGE                           30000 non-null int64\n",
      "PAY_0                         30000 non-null int64\n",
      "PAY_2                         30000 non-null int64\n",
      "PAY_3                         30000 non-null int64\n",
      "PAY_4                         30000 non-null int64\n",
      "PAY_5                         30000 non-null int64\n",
      "PAY_6                         30000 non-null int64\n",
      "BILL_AMT1                     30000 non-null int64\n",
      "BILL_AMT2                     30000 non-null int64\n",
      "BILL_AMT3                     30000 non-null int64\n",
      "BILL_AMT4                     30000 non-null int64\n",
      "BILL_AMT5                     30000 non-null int64\n",
      "BILL_AMT6                     30000 non-null int64\n",
      "PAY_AMT1                      30000 non-null int64\n",
      "PAY_AMT2                      30000 non-null int64\n",
      "PAY_AMT3                      30000 non-null int64\n",
      "PAY_AMT4                      30000 non-null int64\n",
      "PAY_AMT5                      30000 non-null int64\n",
      "PAY_AMT6                      30000 non-null int64\n",
      "default payment next month    30000 non-null int64\n",
      "dtypes: int64(25)\n",
      "memory usage: 5.7 MB\n"
     ]
    },
    {
     "data": {
      "text/plain": [
       "None"
      ]
     },
     "metadata": {},
     "output_type": "display_data"
    },
    {
     "data": {
      "text/html": [
       "<div>\n",
       "<style scoped>\n",
       "    .dataframe tbody tr th:only-of-type {\n",
       "        vertical-align: middle;\n",
       "    }\n",
       "\n",
       "    .dataframe tbody tr th {\n",
       "        vertical-align: top;\n",
       "    }\n",
       "\n",
       "    .dataframe thead th {\n",
       "        text-align: right;\n",
       "    }\n",
       "</style>\n",
       "<table border=\"1\" class=\"dataframe\">\n",
       "  <thead>\n",
       "    <tr style=\"text-align: right;\">\n",
       "      <th></th>\n",
       "      <th>ID</th>\n",
       "      <th>LIMIT_BAL</th>\n",
       "      <th>SEX</th>\n",
       "      <th>EDUCATION</th>\n",
       "      <th>MARRIAGE</th>\n",
       "      <th>AGE</th>\n",
       "      <th>PAY_0</th>\n",
       "      <th>PAY_2</th>\n",
       "      <th>PAY_3</th>\n",
       "      <th>PAY_4</th>\n",
       "      <th>PAY_5</th>\n",
       "      <th>PAY_6</th>\n",
       "      <th>BILL_AMT1</th>\n",
       "      <th>BILL_AMT2</th>\n",
       "      <th>BILL_AMT3</th>\n",
       "      <th>BILL_AMT4</th>\n",
       "      <th>BILL_AMT5</th>\n",
       "      <th>BILL_AMT6</th>\n",
       "      <th>PAY_AMT1</th>\n",
       "      <th>PAY_AMT2</th>\n",
       "      <th>PAY_AMT3</th>\n",
       "      <th>PAY_AMT4</th>\n",
       "      <th>PAY_AMT5</th>\n",
       "      <th>PAY_AMT6</th>\n",
       "      <th>default payment next month</th>\n",
       "    </tr>\n",
       "  </thead>\n",
       "  <tbody>\n",
       "    <tr>\n",
       "      <th>0</th>\n",
       "      <td>1</td>\n",
       "      <td>20000</td>\n",
       "      <td>2</td>\n",
       "      <td>2</td>\n",
       "      <td>1</td>\n",
       "      <td>24</td>\n",
       "      <td>2</td>\n",
       "      <td>2</td>\n",
       "      <td>-1</td>\n",
       "      <td>-1</td>\n",
       "      <td>-2</td>\n",
       "      <td>-2</td>\n",
       "      <td>3913</td>\n",
       "      <td>3102</td>\n",
       "      <td>689</td>\n",
       "      <td>0</td>\n",
       "      <td>0</td>\n",
       "      <td>0</td>\n",
       "      <td>0</td>\n",
       "      <td>689</td>\n",
       "      <td>0</td>\n",
       "      <td>0</td>\n",
       "      <td>0</td>\n",
       "      <td>0</td>\n",
       "      <td>1</td>\n",
       "    </tr>\n",
       "    <tr>\n",
       "      <th>1</th>\n",
       "      <td>2</td>\n",
       "      <td>120000</td>\n",
       "      <td>2</td>\n",
       "      <td>2</td>\n",
       "      <td>2</td>\n",
       "      <td>26</td>\n",
       "      <td>-1</td>\n",
       "      <td>2</td>\n",
       "      <td>0</td>\n",
       "      <td>0</td>\n",
       "      <td>0</td>\n",
       "      <td>2</td>\n",
       "      <td>2682</td>\n",
       "      <td>1725</td>\n",
       "      <td>2682</td>\n",
       "      <td>3272</td>\n",
       "      <td>3455</td>\n",
       "      <td>3261</td>\n",
       "      <td>0</td>\n",
       "      <td>1000</td>\n",
       "      <td>1000</td>\n",
       "      <td>1000</td>\n",
       "      <td>0</td>\n",
       "      <td>2000</td>\n",
       "      <td>1</td>\n",
       "    </tr>\n",
       "    <tr>\n",
       "      <th>2</th>\n",
       "      <td>3</td>\n",
       "      <td>90000</td>\n",
       "      <td>2</td>\n",
       "      <td>2</td>\n",
       "      <td>2</td>\n",
       "      <td>34</td>\n",
       "      <td>0</td>\n",
       "      <td>0</td>\n",
       "      <td>0</td>\n",
       "      <td>0</td>\n",
       "      <td>0</td>\n",
       "      <td>0</td>\n",
       "      <td>29239</td>\n",
       "      <td>14027</td>\n",
       "      <td>13559</td>\n",
       "      <td>14331</td>\n",
       "      <td>14948</td>\n",
       "      <td>15549</td>\n",
       "      <td>1518</td>\n",
       "      <td>1500</td>\n",
       "      <td>1000</td>\n",
       "      <td>1000</td>\n",
       "      <td>1000</td>\n",
       "      <td>5000</td>\n",
       "      <td>0</td>\n",
       "    </tr>\n",
       "    <tr>\n",
       "      <th>3</th>\n",
       "      <td>4</td>\n",
       "      <td>50000</td>\n",
       "      <td>2</td>\n",
       "      <td>2</td>\n",
       "      <td>1</td>\n",
       "      <td>37</td>\n",
       "      <td>0</td>\n",
       "      <td>0</td>\n",
       "      <td>0</td>\n",
       "      <td>0</td>\n",
       "      <td>0</td>\n",
       "      <td>0</td>\n",
       "      <td>46990</td>\n",
       "      <td>48233</td>\n",
       "      <td>49291</td>\n",
       "      <td>28314</td>\n",
       "      <td>28959</td>\n",
       "      <td>29547</td>\n",
       "      <td>2000</td>\n",
       "      <td>2019</td>\n",
       "      <td>1200</td>\n",
       "      <td>1100</td>\n",
       "      <td>1069</td>\n",
       "      <td>1000</td>\n",
       "      <td>0</td>\n",
       "    </tr>\n",
       "    <tr>\n",
       "      <th>4</th>\n",
       "      <td>5</td>\n",
       "      <td>50000</td>\n",
       "      <td>1</td>\n",
       "      <td>2</td>\n",
       "      <td>1</td>\n",
       "      <td>57</td>\n",
       "      <td>-1</td>\n",
       "      <td>0</td>\n",
       "      <td>-1</td>\n",
       "      <td>0</td>\n",
       "      <td>0</td>\n",
       "      <td>0</td>\n",
       "      <td>8617</td>\n",
       "      <td>5670</td>\n",
       "      <td>35835</td>\n",
       "      <td>20940</td>\n",
       "      <td>19146</td>\n",
       "      <td>19131</td>\n",
       "      <td>2000</td>\n",
       "      <td>36681</td>\n",
       "      <td>10000</td>\n",
       "      <td>9000</td>\n",
       "      <td>689</td>\n",
       "      <td>679</td>\n",
       "      <td>0</td>\n",
       "    </tr>\n",
       "  </tbody>\n",
       "</table>\n",
       "</div>"
      ],
      "text/plain": [
       "   ID  LIMIT_BAL  SEX  EDUCATION  MARRIAGE  AGE  PAY_0  PAY_2  PAY_3  PAY_4  \\\n",
       "0   1      20000    2          2         1   24      2      2     -1     -1   \n",
       "1   2     120000    2          2         2   26     -1      2      0      0   \n",
       "2   3      90000    2          2         2   34      0      0      0      0   \n",
       "3   4      50000    2          2         1   37      0      0      0      0   \n",
       "4   5      50000    1          2         1   57     -1      0     -1      0   \n",
       "\n",
       "   PAY_5  PAY_6  BILL_AMT1  BILL_AMT2  BILL_AMT3  BILL_AMT4  BILL_AMT5  \\\n",
       "0     -2     -2       3913       3102        689          0          0   \n",
       "1      0      2       2682       1725       2682       3272       3455   \n",
       "2      0      0      29239      14027      13559      14331      14948   \n",
       "3      0      0      46990      48233      49291      28314      28959   \n",
       "4      0      0       8617       5670      35835      20940      19146   \n",
       "\n",
       "   BILL_AMT6  PAY_AMT1  PAY_AMT2  PAY_AMT3  PAY_AMT4  PAY_AMT5  PAY_AMT6  \\\n",
       "0          0         0       689         0         0         0         0   \n",
       "1       3261         0      1000      1000      1000         0      2000   \n",
       "2      15549      1518      1500      1000      1000      1000      5000   \n",
       "3      29547      2000      2019      1200      1100      1069      1000   \n",
       "4      19131      2000     36681     10000      9000       689       679   \n",
       "\n",
       "   default payment next month  \n",
       "0                           1  \n",
       "1                           1  \n",
       "2                           0  \n",
       "3                           0  \n",
       "4                           0  "
      ]
     },
     "metadata": {},
     "output_type": "display_data"
    }
   ],
   "source": [
    "path_data_file = '../C05T01_Get_Started_With_Data_Science_and_Python/default of credit card clients.csv'\n",
    "path_report_folder = './outputs'\n",
    "\n",
    "df = pd.read_csv(path_data_file, header = 1)\n",
    "display(df.info())\n",
    "\n",
    "display(df.head())"
   ]
  },
  {
   "cell_type": "markdown",
   "metadata": {},
   "source": [
    "## Define Headers Dict"
   ]
  },
  {
   "cell_type": "code",
   "execution_count": 13,
   "metadata": {},
   "outputs": [
    {
     "data": {
      "text/plain": [
       "{'features': ['LIMIT_BAL',\n",
       "  'SEX',\n",
       "  'EDUCATION',\n",
       "  'MARRIAGE',\n",
       "  'AGE',\n",
       "  'PAY_0',\n",
       "  'PAY_2',\n",
       "  'PAY_3',\n",
       "  'PAY_4',\n",
       "  'PAY_5',\n",
       "  'PAY_6',\n",
       "  'BILL_AMT1',\n",
       "  'BILL_AMT2',\n",
       "  'BILL_AMT3',\n",
       "  'BILL_AMT4',\n",
       "  'BILL_AMT5',\n",
       "  'BILL_AMT6',\n",
       "  'PAY_AMT1',\n",
       "  'PAY_AMT2',\n",
       "  'PAY_AMT3',\n",
       "  'PAY_AMT4',\n",
       "  'PAY_AMT5',\n",
       "  'PAY_AMT6'],\n",
       " 'categorical features': ['SEX', 'EDUCATION', 'MARRIAGE'],\n",
       " 'continuous features': ['LIMIT_BAL',\n",
       "  'AGE',\n",
       "  'PAY_0',\n",
       "  'PAY_2',\n",
       "  'PAY_3',\n",
       "  'PAY_4',\n",
       "  'PAY_5',\n",
       "  'PAY_6',\n",
       "  'BILL_AMT1',\n",
       "  'BILL_AMT2',\n",
       "  'BILL_AMT3',\n",
       "  'BILL_AMT4',\n",
       "  'BILL_AMT5',\n",
       "  'BILL_AMT6',\n",
       "  'PAY_AMT1',\n",
       "  'PAY_AMT2',\n",
       "  'PAY_AMT3',\n",
       "  'PAY_AMT4',\n",
       "  'PAY_AMT5',\n",
       "  'PAY_AMT6'],\n",
       " 'labels': ['default payment next month']}"
      ]
     },
     "execution_count": 13,
     "metadata": {},
     "output_type": "execute_result"
    }
   ],
   "source": [
    "headers_dict = {}\n",
    "headers_dict['features'] = list(df.drop(columns = ['ID','default payment next month']))\n",
    "headers_dict['categorical features'] = ['SEX', 'EDUCATION', 'MARRIAGE']#, \n",
    "                                        #'PAY_0','PAY_2','PAY_3','PAY_4','PAY_5','PAY_6']\n",
    "headers_dict['continuous features'] = [feature for feature in headers_dict['features'] if feature not in headers_dict['categorical features']]\n",
    "headers_dict['labels'] = ['default payment next month']\n",
    "headers_dict"
   ]
  },
  {
   "cell_type": "markdown",
   "metadata": {},
   "source": [
    "## Select X y slices"
   ]
  },
  {
   "cell_type": "code",
   "execution_count": 14,
   "metadata": {},
   "outputs": [],
   "source": [
    "X = df[headers_dict['features']]\n",
    "y = df[headers_dict['labels']]"
   ]
  },
  {
   "cell_type": "markdown",
   "metadata": {},
   "source": [
    "## Plot Stats"
   ]
  },
  {
   "cell_type": "code",
   "execution_count": 21,
   "metadata": {
    "scrolled": true
   },
   "outputs": [
    {
     "data": {
      "image/png": "[encoded data removed]",
      "text/plain": [
       "<Figure size 432x288 with 3 Axes>"
      ]
     },
     "metadata": {},
     "output_type": "display_data"
    },
    {
     "data": {
      "image/png": "[encoded data removed]",
      "text/plain": [
       "<Figure size 432x288 with 3 Axes>"
      ]
     },
     "metadata": {},
     "output_type": "display_data"
    },
    {
     "data": {
      "image/png": "[encoded data removed]",
      "text/plain": [
       "<Figure size 432x288 with 3 Axes>"
      ]
     },
     "metadata": {},
     "output_type": "display_data"
    },
    {
     "data": {
      "image/png": "[encoded data removed]",
      "text/plain": [
       "<Figure size 432x288 with 3 Axes>"
      ]
     },
     "metadata": {},
     "output_type": "display_data"
    },
    {
     "data": {
      "image/png": "[encoded data removed]",
      "text/plain": [
       "<Figure size 432x288 with 3 Axes>"
      ]
     },
     "metadata": {},
     "output_type": "display_data"
    },
    {
     "data": {
      "image/png": "[encoded data removed]",
      "text/plain": [
       "<Figure size 432x288 with 3 Axes>"
      ]
     },
     "metadata": {},
     "output_type": "display_data"
    },
    {
     "data": {
      "image/png": "[encoded data removed]",
      "text/plain": [
       "<Figure size 432x288 with 3 Axes>"
      ]
     },
     "metadata": {},
     "output_type": "display_data"
    },
    {
     "data": {
      "image/png": "[encoded data removed]",
      "text/plain": [
       "<Figure size 432x288 with 3 Axes>"
      ]
     },
     "metadata": {},
     "output_type": "display_data"
    }
   ],
   "source": [
    "JLpyUtils.plot.hist_or_bar(X, categorical_headers = headers_dict['categorical features'])"
   ]
  },
  {
   "cell_type": "code",
   "execution_count": 206,
   "metadata": {},
   "outputs": [
    {
     "data": {
      "text/plain": [
       "<module 'JLpyUtils.plot' from '/mr3_boltprod_john_t_leonard/Data_Science_Projects./JLpyUtils/JLpyUtils/plot.py'>"
      ]
     },
     "execution_count": 206,
     "metadata": {},
     "output_type": "execute_result"
    }
   ],
   "source": [
    "importlib.reload(JLpyUtils.plot)"
   ]
  },
  {
   "cell_type": "code",
   "execution_count": 208,
   "metadata": {},
   "outputs": [
    {
     "data": {
      "image/png": "[encoded data removed]",
      "text/plain": [
       "<Figure size 432x288 with 1 Axes>"
      ]
     },
     "metadata": {},
     "output_type": "display_data"
    }
   ],
   "source": [
    "JLpyUtils.plot.hist_or_bar(y, categorical_headers=headers_dict['labels'], n_plot_columns=1)"
   ]
  },
  {
   "cell_type": "code",
   "execution_count": 209,
   "metadata": {},
   "outputs": [
    {
     "name": "stdout",
     "output_type": "stream",
     "text": [
      "percentages:\n"
     ]
    },
    {
     "data": {
      "text/plain": [
       "0    77.88\n",
       "1    22.12\n",
       "Name: default payment next month, dtype: float64"
      ]
     },
     "execution_count": 209,
     "metadata": {},
     "output_type": "execute_result"
    }
   ],
   "source": [
    "print('percentages:')\n",
    "y.iloc[:,0].value_counts()/(np.sum(y.iloc[:,0].value_counts()))*100"
   ]
  },
  {
   "cell_type": "markdown",
   "metadata": {},
   "source": [
    "## Feature Engineer"
   ]
  },
  {
   "cell_type": "code",
   "execution_count": 15,
   "metadata": {},
   "outputs": [],
   "source": [
    "# instantiate the feature engineering pipe\n",
    "path_report_dir = '.'\n",
    "feat_eng_pipe = JLpyUtils.ML.preprocessing.feat_eng_pipe(path_report_dir=path_report_dir,\n",
    "                                         verbose=1, overwrite=False)"
   ]
  },
  {
   "cell_type": "code",
   "execution_count": 16,
   "metadata": {},
   "outputs": [],
   "source": [
    "#define feature engineering pipe parameters\n",
    "import sklearn.preprocessing\n",
    "feat_eng_pipe.Scalers_dict = {'RobustScaler': sklearn.preprocessing.RobustScaler()}\n",
    "feat_eng_pipe.Imputer_categorical_dict = {'most_frequent':{None:None}}\n",
    "feat_eng_pipe.Imputer_continuous_dict = {'median':{None:None}}\n",
    "feat_eng_pipe.OneHot_cases = [True]"
   ]
  },
  {
   "cell_type": "code",
   "execution_count": 17,
   "metadata": {},
   "outputs": [
    {
     "name": "stdout",
     "output_type": "stream",
     "text": [
      "feat_eng_pipe.path_feat_eng_root_dir: ./outputs/feat_eng\n"
     ]
    }
   ],
   "source": [
    "print('feat_eng_pipe.path_feat_eng_root_dir:',feat_eng_pipe.path_feat_eng_root_dir)"
   ]
  },
  {
   "cell_type": "code",
   "execution_count": 18,
   "metadata": {},
   "outputs": [
    {
     "name": "stdout",
     "output_type": "stream",
     "text": [
      "-------------------------------- fit feat_eng_pipe --------------------------------\n",
      "LabelEncode\n",
      "\tScale: RobustScaler\n",
      "\t\tImpute Categorical Features: most_frequent [ None ]\n",
      "\t\t\tImpute Continuous Features: median [ None ]\n",
      "\t\t\t\tOne Hot Encode: [ True ]\n",
      "------------------------------------ !Finished! ------------------------------------\n"
     ]
    }
   ],
   "source": [
    "#run the pipe\n",
    "feat_eng_pipe.fit(X, headers_dict=headers_dict, format_ = 'csv')"
   ]
  },
  {
   "cell_type": "markdown",
   "metadata": {},
   "source": [
    "### Select Feat Eng Case of Interest & Inspect the save Files"
   ]
  },
  {
   "cell_type": "code",
   "execution_count": 19,
   "metadata": {},
   "outputs": [
    {
     "data": {
      "text/plain": [
       "['X.csv', 'OneHotEncoder.dill', 'headers_dict.json', 'GridSearchCV']"
      ]
     },
     "execution_count": 19,
     "metadata": {},
     "output_type": "execute_result"
    }
   ],
   "source": [
    "path_feat_eng_dir = feat_eng_pipe.path_feat_eng_dirs[0]\n",
    "os.listdir(path_feat_eng_dir)"
   ]
  },
  {
   "cell_type": "markdown",
   "metadata": {},
   "source": [
    "## Further Feature Engineering"
   ]
  },
  {
   "cell_type": "code",
   "execution_count": 20,
   "metadata": {},
   "outputs": [
    {
     "data": {
      "text/plain": [
       "dict_keys(['features', 'categorical features', 'continuous features', 'labels', 'headers after OneHot'])"
      ]
     },
     "execution_count": 20,
     "metadata": {},
     "output_type": "execute_result"
    }
   ],
   "source": [
    "headers_dict = feat_eng_pipe.load('headers_dict','json', path_feat_eng_dir)\n",
    "headers_dict.keys()"
   ]
  },
  {
   "cell_type": "code",
   "execution_count": 21,
   "metadata": {},
   "outputs": [
    {
     "data": {
      "text/html": [
       "<div>\n",
       "<style scoped>\n",
       "    .dataframe tbody tr th:only-of-type {\n",
       "        vertical-align: middle;\n",
       "    }\n",
       "\n",
       "    .dataframe tbody tr th {\n",
       "        vertical-align: top;\n",
       "    }\n",
       "\n",
       "    .dataframe thead th {\n",
       "        text-align: right;\n",
       "    }\n",
       "</style>\n",
       "<table border=\"1\" class=\"dataframe\">\n",
       "  <thead>\n",
       "    <tr style=\"text-align: right;\">\n",
       "      <th></th>\n",
       "      <th>LIMIT_BAL</th>\n",
       "      <th>AGE</th>\n",
       "      <th>PAY_0</th>\n",
       "      <th>PAY_2</th>\n",
       "      <th>PAY_3</th>\n",
       "      <th>PAY_4</th>\n",
       "      <th>PAY_5</th>\n",
       "      <th>PAY_6</th>\n",
       "      <th>BILL_AMT1</th>\n",
       "      <th>BILL_AMT2</th>\n",
       "      <th>BILL_AMT3</th>\n",
       "      <th>BILL_AMT4</th>\n",
       "      <th>BILL_AMT5</th>\n",
       "      <th>BILL_AMT6</th>\n",
       "      <th>PAY_AMT1</th>\n",
       "      <th>PAY_AMT2</th>\n",
       "      <th>PAY_AMT3</th>\n",
       "      <th>PAY_AMT4</th>\n",
       "      <th>PAY_AMT5</th>\n",
       "      <th>PAY_AMT6</th>\n",
       "      <th>SEX[1]</th>\n",
       "      <th>SEX[2]</th>\n",
       "      <th>EDUCATION[0]</th>\n",
       "      <th>EDUCATION[1]</th>\n",
       "      <th>EDUCATION[2]</th>\n",
       "      <th>EDUCATION[3]</th>\n",
       "      <th>EDUCATION[4]</th>\n",
       "      <th>EDUCATION[5]</th>\n",
       "      <th>EDUCATION[6]</th>\n",
       "      <th>MARRIAGE[0]</th>\n",
       "      <th>MARRIAGE[1]</th>\n",
       "      <th>MARRIAGE[2]</th>\n",
       "      <th>MARRIAGE[3]</th>\n",
       "    </tr>\n",
       "  </thead>\n",
       "  <tbody>\n",
       "    <tr>\n",
       "      <th>0</th>\n",
       "      <td>-0.631579</td>\n",
       "      <td>-0.769231</td>\n",
       "      <td>2.0</td>\n",
       "      <td>2.0</td>\n",
       "      <td>-1.0</td>\n",
       "      <td>-1.0</td>\n",
       "      <td>-2.0</td>\n",
       "      <td>-2.0</td>\n",
       "      <td>-0.290695</td>\n",
       "      <td>-0.296584</td>\n",
       "      <td>-0.337391</td>\n",
       "      <td>-0.365126</td>\n",
       "      <td>-0.373848</td>\n",
       "      <td>-0.356074</td>\n",
       "      <td>-0.524214</td>\n",
       "      <td>-0.316775</td>\n",
       "      <td>-0.437424</td>\n",
       "      <td>-0.403524</td>\n",
       "      <td>-0.396930</td>\n",
       "      <td>-0.386374</td>\n",
       "      <td>0.0</td>\n",
       "      <td>1.0</td>\n",
       "      <td>0.0</td>\n",
       "      <td>0.0</td>\n",
       "      <td>1.0</td>\n",
       "      <td>0.0</td>\n",
       "      <td>0.0</td>\n",
       "      <td>0.0</td>\n",
       "      <td>0.0</td>\n",
       "      <td>0.0</td>\n",
       "      <td>1.0</td>\n",
       "      <td>0.0</td>\n",
       "      <td>0.0</td>\n",
       "    </tr>\n",
       "    <tr>\n",
       "      <th>1</th>\n",
       "      <td>-0.105263</td>\n",
       "      <td>-0.615385</td>\n",
       "      <td>-1.0</td>\n",
       "      <td>2.0</td>\n",
       "      <td>0.0</td>\n",
       "      <td>0.0</td>\n",
       "      <td>0.0</td>\n",
       "      <td>2.0</td>\n",
       "      <td>-0.310071</td>\n",
       "      <td>-0.319150</td>\n",
       "      <td>-0.302730</td>\n",
       "      <td>-0.302419</td>\n",
       "      <td>-0.302504</td>\n",
       "      <td>-0.288055</td>\n",
       "      <td>-0.524214</td>\n",
       "      <td>-0.242141</td>\n",
       "      <td>-0.194411</td>\n",
       "      <td>-0.134508</td>\n",
       "      <td>-0.396930</td>\n",
       "      <td>0.128791</td>\n",
       "      <td>0.0</td>\n",
       "      <td>1.0</td>\n",
       "      <td>0.0</td>\n",
       "      <td>0.0</td>\n",
       "      <td>1.0</td>\n",
       "      <td>0.0</td>\n",
       "      <td>0.0</td>\n",
       "      <td>0.0</td>\n",
       "      <td>0.0</td>\n",
       "      <td>0.0</td>\n",
       "      <td>0.0</td>\n",
       "      <td>1.0</td>\n",
       "      <td>0.0</td>\n",
       "    </tr>\n",
       "    <tr>\n",
       "      <th>2</th>\n",
       "      <td>-0.263158</td>\n",
       "      <td>0.000000</td>\n",
       "      <td>0.0</td>\n",
       "      <td>0.0</td>\n",
       "      <td>0.0</td>\n",
       "      <td>0.0</td>\n",
       "      <td>0.0</td>\n",
       "      <td>0.0</td>\n",
       "      <td>0.107937</td>\n",
       "      <td>-0.117549</td>\n",
       "      <td>-0.113559</td>\n",
       "      <td>-0.090477</td>\n",
       "      <td>-0.065180</td>\n",
       "      <td>-0.031747</td>\n",
       "      <td>-0.145282</td>\n",
       "      <td>-0.122150</td>\n",
       "      <td>-0.194411</td>\n",
       "      <td>-0.134508</td>\n",
       "      <td>-0.132310</td>\n",
       "      <td>0.901539</td>\n",
       "      <td>0.0</td>\n",
       "      <td>1.0</td>\n",
       "      <td>0.0</td>\n",
       "      <td>0.0</td>\n",
       "      <td>1.0</td>\n",
       "      <td>0.0</td>\n",
       "      <td>0.0</td>\n",
       "      <td>0.0</td>\n",
       "      <td>0.0</td>\n",
       "      <td>0.0</td>\n",
       "      <td>0.0</td>\n",
       "      <td>1.0</td>\n",
       "      <td>0.0</td>\n",
       "    </tr>\n",
       "    <tr>\n",
       "      <th>3</th>\n",
       "      <td>-0.473684</td>\n",
       "      <td>0.230769</td>\n",
       "      <td>0.0</td>\n",
       "      <td>0.0</td>\n",
       "      <td>0.0</td>\n",
       "      <td>0.0</td>\n",
       "      <td>0.0</td>\n",
       "      <td>0.0</td>\n",
       "      <td>0.387339</td>\n",
       "      <td>0.443008</td>\n",
       "      <td>0.507883</td>\n",
       "      <td>0.177504</td>\n",
       "      <td>0.224139</td>\n",
       "      <td>0.260230</td>\n",
       "      <td>-0.024963</td>\n",
       "      <td>0.002400</td>\n",
       "      <td>-0.145808</td>\n",
       "      <td>-0.107606</td>\n",
       "      <td>-0.114051</td>\n",
       "      <td>-0.128791</td>\n",
       "      <td>0.0</td>\n",
       "      <td>1.0</td>\n",
       "      <td>0.0</td>\n",
       "      <td>0.0</td>\n",
       "      <td>1.0</td>\n",
       "      <td>0.0</td>\n",
       "      <td>0.0</td>\n",
       "      <td>0.0</td>\n",
       "      <td>0.0</td>\n",
       "      <td>0.0</td>\n",
       "      <td>1.0</td>\n",
       "      <td>0.0</td>\n",
       "      <td>0.0</td>\n",
       "    </tr>\n",
       "    <tr>\n",
       "      <th>4</th>\n",
       "      <td>-0.473684</td>\n",
       "      <td>1.769231</td>\n",
       "      <td>-1.0</td>\n",
       "      <td>0.0</td>\n",
       "      <td>-1.0</td>\n",
       "      <td>0.0</td>\n",
       "      <td>0.0</td>\n",
       "      <td>0.0</td>\n",
       "      <td>-0.216654</td>\n",
       "      <td>-0.254500</td>\n",
       "      <td>0.273859</td>\n",
       "      <td>0.036183</td>\n",
       "      <td>0.021506</td>\n",
       "      <td>0.042968</td>\n",
       "      <td>-0.024963</td>\n",
       "      <td>8.320614</td>\n",
       "      <td>1.992710</td>\n",
       "      <td>2.017621</td>\n",
       "      <td>-0.214607</td>\n",
       "      <td>-0.211475</td>\n",
       "      <td>1.0</td>\n",
       "      <td>0.0</td>\n",
       "      <td>0.0</td>\n",
       "      <td>0.0</td>\n",
       "      <td>1.0</td>\n",
       "      <td>0.0</td>\n",
       "      <td>0.0</td>\n",
       "      <td>0.0</td>\n",
       "      <td>0.0</td>\n",
       "      <td>0.0</td>\n",
       "      <td>1.0</td>\n",
       "      <td>0.0</td>\n",
       "      <td>0.0</td>\n",
       "    </tr>\n",
       "  </tbody>\n",
       "</table>\n",
       "</div>"
      ],
      "text/plain": [
       "   LIMIT_BAL       AGE  PAY_0  PAY_2  PAY_3  PAY_4  PAY_5  PAY_6  BILL_AMT1  \\\n",
       "0  -0.631579 -0.769231    2.0    2.0   -1.0   -1.0   -2.0   -2.0  -0.290695   \n",
       "1  -0.105263 -0.615385   -1.0    2.0    0.0    0.0    0.0    2.0  -0.310071   \n",
       "2  -0.263158  0.000000    0.0    0.0    0.0    0.0    0.0    0.0   0.107937   \n",
       "3  -0.473684  0.230769    0.0    0.0    0.0    0.0    0.0    0.0   0.387339   \n",
       "4  -0.473684  1.769231   -1.0    0.0   -1.0    0.0    0.0    0.0  -0.216654   \n",
       "\n",
       "   BILL_AMT2  BILL_AMT3  BILL_AMT4  BILL_AMT5  BILL_AMT6  PAY_AMT1  PAY_AMT2  \\\n",
       "0  -0.296584  -0.337391  -0.365126  -0.373848  -0.356074 -0.524214 -0.316775   \n",
       "1  -0.319150  -0.302730  -0.302419  -0.302504  -0.288055 -0.524214 -0.242141   \n",
       "2  -0.117549  -0.113559  -0.090477  -0.065180  -0.031747 -0.145282 -0.122150   \n",
       "3   0.443008   0.507883   0.177504   0.224139   0.260230 -0.024963  0.002400   \n",
       "4  -0.254500   0.273859   0.036183   0.021506   0.042968 -0.024963  8.320614   \n",
       "\n",
       "   PAY_AMT3  PAY_AMT4  PAY_AMT5  PAY_AMT6  SEX[1]  SEX[2]  EDUCATION[0]  \\\n",
       "0 -0.437424 -0.403524 -0.396930 -0.386374     0.0     1.0           0.0   \n",
       "1 -0.194411 -0.134508 -0.396930  0.128791     0.0     1.0           0.0   \n",
       "2 -0.194411 -0.134508 -0.132310  0.901539     0.0     1.0           0.0   \n",
       "3 -0.145808 -0.107606 -0.114051 -0.128791     0.0     1.0           0.0   \n",
       "4  1.992710  2.017621 -0.214607 -0.211475     1.0     0.0           0.0   \n",
       "\n",
       "   EDUCATION[1]  EDUCATION[2]  EDUCATION[3]  EDUCATION[4]  EDUCATION[5]  \\\n",
       "0           0.0           1.0           0.0           0.0           0.0   \n",
       "1           0.0           1.0           0.0           0.0           0.0   \n",
       "2           0.0           1.0           0.0           0.0           0.0   \n",
       "3           0.0           1.0           0.0           0.0           0.0   \n",
       "4           0.0           1.0           0.0           0.0           0.0   \n",
       "\n",
       "   EDUCATION[6]  MARRIAGE[0]  MARRIAGE[1]  MARRIAGE[2]  MARRIAGE[3]  \n",
       "0           0.0          0.0          1.0          0.0          0.0  \n",
       "1           0.0          0.0          0.0          1.0          0.0  \n",
       "2           0.0          0.0          0.0          1.0          0.0  \n",
       "3           0.0          0.0          1.0          0.0          0.0  \n",
       "4           0.0          0.0          1.0          0.0          0.0  "
      ]
     },
     "execution_count": 21,
     "metadata": {},
     "output_type": "execute_result"
    }
   ],
   "source": [
    "X = feat_eng_pipe.load('X', 'csv', path_feat_eng_dir, headers= headers_dict['headers after OneHot'])\n",
    "X.head()"
   ]
  },
  {
   "cell_type": "markdown",
   "metadata": {},
   "source": [
    "<font color = 'red'> Since our feature engineering involved scaling the data, we can just use a correlation coeff. threshold method to filter cross-correlated features, instead of the covariance coeffience, since covariance is used to measure variables that have different units of measurement."
   ]
  },
  {
   "cell_type": "code",
   "execution_count": 22,
   "metadata": {},
   "outputs": [
    {
     "name": "stdout",
     "output_type": "stream",
     "text": [
      "dropped_features_dict:\n",
      " {'dropped feature': ['BILL_AMT2', 'SEX[2]', 'MARRIAGE[2]'], 'correlated feature': ['BILL_AMT1', 'SEX[1]', 'MARRIAGE[1]'], 'corr coeff': [0.9514836727518029, -1.0, -0.9750330059585367]}\n"
     ]
    }
   ],
   "source": [
    "AbsCorrCoeff_threshold=0.95\n",
    "CorrelationCoeffThreshold = JLpyUtils.ML.preprocessing.CorrelationCoeffThreshold(AbsCorrCoeff_threshold)\n",
    "CorrelationCoeffThreshold.fit(X)\n",
    "\n",
    "print('dropped_features_dict:\\n',CorrelationCoeffThreshold.dropped_features_dict)"
   ]
  },
  {
   "cell_type": "code",
   "execution_count": 23,
   "metadata": {},
   "outputs": [],
   "source": [
    "X = CorrelationCoeffThreshold.transform(X)"
   ]
  },
  {
   "cell_type": "markdown",
   "metadata": {},
   "source": [
    "<font color='red'> Above, we can see we have dropped 3 features ```['BILL_AMT2', 'SEX[2]', 'MARRIAGE[2]']``` based on their absolute cross correlation with ```['BILL_AMT1', 'SEX[1]', 'MARRIAGE[1]']``` being >= 0.95"
   ]
  },
  {
   "cell_type": "markdown",
   "metadata": {},
   "source": [
    "## Train Test Split"
   ]
  },
  {
   "cell_type": "code",
   "execution_count": 138,
   "metadata": {},
   "outputs": [],
   "source": [
    "random_state = 0\n",
    "test_size = 0.3\n",
    "X_train, X_test, y_train, y_test = sklearn.model_selection.train_test_split(X, y, test_size = test_size, random_state =random_state)"
   ]
  },
  {
   "cell_type": "markdown",
   "metadata": {},
   "source": [
    "## Class Balance"
   ]
  },
  {
   "cell_type": "markdown",
   "metadata": {},
   "source": [
    "<font color='red'> To ensure our models don't perferntially predict one class over another, we run random oversampling on the training set to balance the classes"
   ]
  },
  {
   "cell_type": "code",
   "execution_count": 139,
   "metadata": {},
   "outputs": [
    {
     "name": "stderr",
     "output_type": "stream",
     "text": [
      "/opt/conda/lib/python3.7/site-packages/sklearn/utils/validation.py:724: DataConversionWarning: A column-vector y was passed when a 1d array was expected. Please change the shape of y to (n_samples, ), for example using ravel().\n",
      "  y = column_or_1d(y, warn=True)\n"
     ]
    }
   ],
   "source": [
    "RandomOverSampler = imblearn.over_sampling.RandomOverSampler()\n",
    "X_train, y_train = RandomOverSampler.fit_resample(X_train,y_train)\n",
    "X_train = pd.DataFrame(X_train, columns = list(X.columns))\n",
    "y_train = pd.DataFrame(y_train, columns = list(y.columns))"
   ]
  },
  {
   "cell_type": "code",
   "execution_count": 210,
   "metadata": {},
   "outputs": [
    {
     "data": {
      "image/png": "[encoded data removed]",
      "text/plain": [
       "<Figure size 432x288 with 1 Axes>"
      ]
     },
     "metadata": {},
     "output_type": "display_data"
    }
   ],
   "source": [
    "JLpyUtils.plot.hist_or_bar(y_train, categorical_headers=[y_train.columns], n_plot_columns=1)"
   ]
  },
  {
   "cell_type": "markdown",
   "metadata": {},
   "source": [
    "## Model Selection"
   ]
  },
  {
   "cell_type": "code",
   "execution_count": 27,
   "metadata": {},
   "outputs": [
    {
     "name": "stdout",
     "output_type": "stream",
     "text": [
      "n_features: 30\n",
      "n_labels: 1\n"
     ]
    }
   ],
   "source": [
    "n_features = X.shape[1]\n",
    "n_labels = y.shape[1]\n",
    "print('n_features:',n_features)\n",
    "print('n_labels:',n_labels)"
   ]
  },
  {
   "cell_type": "code",
   "execution_count": 28,
   "metadata": {},
   "outputs": [
    {
     "data": {
      "text/plain": [
       "['Logistic', 'SVM', 'KNN', 'DecisionTree', 'RandomForest']"
      ]
     },
     "execution_count": 28,
     "metadata": {},
     "output_type": "execute_result"
    }
   ],
   "source": [
    "models=['Logistic', 'SVM', 'KNN', 'DecisionTree', 'RandomForest']\n",
    "models"
   ]
  },
  {
   "cell_type": "code",
   "execution_count": 29,
   "metadata": {},
   "outputs": [
    {
     "data": {
      "text/plain": [
       "<module 'JLpyUtils.ML.model_selection.default_models_dict' from '/mr3_boltprod_john_t_leonard/Data_Science_Projects./JLpyUtils/JLpyUtils/ML/model_selection/default_models_dict.py'>"
      ]
     },
     "execution_count": 29,
     "metadata": {},
     "output_type": "execute_result"
    }
   ],
   "source": [
    "importlib.reload(JLpyUtils.ML)\n",
    "importlib.reload(JLpyUtils.ML.NeuralNet.DenseNet)\n",
    "importlib.reload(JLpyUtils.ML.NeuralNet.search)\n",
    "importlib.reload(JLpyUtils.ML.model_selection)\n",
    "importlib.reload(JLpyUtils.ML.model_selection.default_models_dict)"
   ]
  },
  {
   "cell_type": "code",
   "execution_count": 30,
   "metadata": {},
   "outputs": [],
   "source": [
    "models_dict = JLpyUtils.ML.model_selection.default_models_dict.classification(n_features, \n",
    "                                                                                n_labels, \n",
    "                                                                                models)"
   ]
  },
  {
   "cell_type": "code",
   "execution_count": 32,
   "metadata": {},
   "outputs": [],
   "source": [
    "#reduce param space for dense net\n",
    "# params_to_keep = ['layers_per_group', 'dense_scaling_factor', 'dropout_layer_rate', 'dropout_rate']\n",
    "# for key in models_dict['DenseNet']['param_grid'].keys():\n",
    "#     if key not in params_to_keep:\n",
    "#         models_dict['DenseNet']['param_grid'][key] = [models_dict['DenseNet']['param_grid'][key][0]]"
   ]
  },
  {
   "cell_type": "code",
   "execution_count": 33,
   "metadata": {},
   "outputs": [
    {
     "name": "stdout",
     "output_type": "stream",
     "text": [
      "\n",
      "Logistic param_grid:\n"
     ]
    },
    {
     "data": {
      "text/plain": [
       "{'penalty': ['l1', 'l2']}"
      ]
     },
     "metadata": {},
     "output_type": "display_data"
    },
    {
     "name": "stdout",
     "output_type": "stream",
     "text": [
      "\n",
      "SVM param_grid:\n"
     ]
    },
    {
     "data": {
      "text/plain": [
       "{'kernel': ['rbf', 'sigmoid']}"
      ]
     },
     "metadata": {},
     "output_type": "display_data"
    },
    {
     "name": "stdout",
     "output_type": "stream",
     "text": [
      "\n",
      "DecisionTree param_grid:\n"
     ]
    },
    {
     "data": {
      "text/plain": [
       "{'criterion': ['mse', 'friedman_mse', 'mae'],\n",
       " 'splitter': ['best', 'random'],\n",
       " 'max_depth': [None, 5, 10, 100],\n",
       " 'max_features': [None, 0.25, 0.5, 0.75]}"
      ]
     },
     "metadata": {},
     "output_type": "display_data"
    },
    {
     "name": "stdout",
     "output_type": "stream",
     "text": [
      "\n",
      "RandomForest param_grid:\n"
     ]
    },
    {
     "data": {
      "text/plain": [
       "{'criterion': ['gini', 'entropy'],\n",
       " 'n_estimators': [10, 100],\n",
       " 'max_depth': [None, 5, 10],\n",
       " 'max_features': [None, 0.25, 0.5, 0.75]}"
      ]
     },
     "metadata": {},
     "output_type": "display_data"
    }
   ],
   "source": [
    "for key in models_dict.keys():\n",
    "    print('\\n'+key,'param_grid:')\n",
    "    display(models_dict[key]['param_grid'])"
   ]
  },
  {
   "cell_type": "code",
   "execution_count": 34,
   "metadata": {},
   "outputs": [
    {
     "name": "stdout",
     "output_type": "stream",
     "text": [
      "path_root_dir: ./outputs/feat_eng/LabelEncode/Scaler_ID[RobustScaler]/Imputer_categorical_ID[most_frequent]/Imputer_iterator_classifier_ID[None]/Imputer_continuous_ID[median]/Imputer_iterator_regressor_ID[None]/OneHot_case[True]/GridSearchCV\n"
     ]
    }
   ],
   "source": [
    "path_root_dir = os.path.join(path_feat_eng_dir,'GridSearchCV')\n",
    "print('path_root_dir:',path_root_dir)"
   ]
  },
  {
   "cell_type": "code",
   "execution_count": 35,
   "metadata": {},
   "outputs": [],
   "source": [
    "metrics = {'accuracy':sklearn.metrics.accuracy_score,\n",
    "           'precision':sklearn.metrics.precision_score,\n",
    "           'recall':sklearn.metrics.recall_score,\n",
    "           'f1_score':sklearn.metrics.f1_score,\n",
    "           'auc':sklearn.metrics.roc_auc_score\n",
    "           }\n",
    "GridSearchCV = JLpyUtils.ML.model_selection.GridSearchCV(models_dict, \n",
    "                                                         cv=4, \n",
    "                                                         scoring=None, \n",
    "                                                         metrics = metrics, \n",
    "                                                         retrain=False, \n",
    "                                                         path_root_dir=path_root_dir, \n",
    "                                                         n_jobs=-1, verbose=2)"
   ]
  },
  {
   "cell_type": "code",
   "execution_count": 38,
   "metadata": {
    "scrolled": false
   },
   "outputs": [
    {
     "name": "stdout",
     "output_type": "stream",
     "text": [
      "\n",
      "---- Logistic ----\n",
      "path_model_dir: ./outputs/feat_eng/LabelEncode/Scaler_ID[RobustScaler]/Imputer_categorical_ID[most_frequent]/Imputer_iterator_classifier_ID[None]/Imputer_continuous_ID[median]/Imputer_iterator_regressor_ID[None]/OneHot_case[True]/GridSearchCV/Logistic\n",
      "\tbest_cv_score: 0.672779685966634\n",
      "\tbest_pred_score: 0.6892222222222222\n",
      "\t accuracy : 0.6892222222222222\n",
      "\t precision : 0.3714371437143714\n",
      "\t recall : 0.6381443298969072\n",
      "\t f1_score : 0.4695619192110753\n",
      "\t auc : 0.6707010601325896\n",
      "\n",
      "---- SVM ----\n",
      "path_model_dir: ./outputs/feat_eng/LabelEncode/Scaler_ID[RobustScaler]/Imputer_categorical_ID[most_frequent]/Imputer_iterator_classifier_ID[None]/Imputer_continuous_ID[median]/Imputer_iterator_regressor_ID[None]/OneHot_case[True]/GridSearchCV/SVM\n",
      "\tbest_cv_score: 0.7327036310107949\n",
      "\tbest_pred_score: 0.781\n",
      "\t accuracy : 0.781\n",
      "\t precision : 0.49305244285073957\n",
      "\t recall : 0.5670103092783505\n",
      "\t f1_score : 0.5274514504914889\n",
      "\t auc : 0.7034060044975322\n",
      "\n",
      "---- DecisionTree ----\n",
      "path_model_dir: ./outputs/feat_eng/LabelEncode/Scaler_ID[RobustScaler]/Imputer_categorical_ID[most_frequent]/Imputer_iterator_classifier_ID[None]/Imputer_continuous_ID[median]/Imputer_iterator_regressor_ID[None]/OneHot_case[True]/GridSearchCV/DecisionTree\n",
      "Fitting 4 folds for each of 96 candidates, totalling 384 fits\n"
     ]
    },
    {
     "name": "stderr",
     "output_type": "stream",
     "text": [
      "[Parallel(n_jobs=-1)]: Using backend LokyBackend with 30 concurrent workers.\n",
      "[Parallel(n_jobs=-1)]: Done 140 tasks      | elapsed:    3.7s\n",
      "[Parallel(n_jobs=-1)]: Done 384 out of 384 | elapsed:  5.3min finished\n"
     ]
    },
    {
     "name": "stdout",
     "output_type": "stream",
     "text": [
      "\tbest_cv_score: 0.32479358400824265\n",
      "\tbest_pred_score: -0.6414532285856134\n",
      "\t accuracy : 0.7224444444444444\n",
      "\t precision : 0.3600802407221665\n",
      "\t recall : 0.37010309278350517\n",
      "\t f1_score : 0.3650228774783935\n",
      "\t auc : 0.5946832744370784\n",
      "\n",
      "---- RandomForest ----\n",
      "path_model_dir: ./outputs/feat_eng/LabelEncode/Scaler_ID[RobustScaler]/Imputer_categorical_ID[most_frequent]/Imputer_iterator_classifier_ID[None]/Imputer_continuous_ID[median]/Imputer_iterator_regressor_ID[None]/OneHot_case[True]/GridSearchCV/RandomForest\n",
      "\tbest_cv_score: 0.9398000490677134\n",
      "\tbest_pred_score: 0.8112222222222222\n",
      "\t accuracy : 0.8112222222222222\n",
      "\t precision : 0.5868781542898341\n",
      "\t recall : 0.4195876288659794\n",
      "\t f1_score : 0.48932972648031264\n",
      "\t auc : 0.6692130778890804\n"
     ]
    }
   ],
   "source": [
    "GridSearchCV.fit(X_train, y_train, X_test, y_test)"
   ]
  },
  {
   "cell_type": "markdown",
   "metadata": {},
   "source": [
    "## Compare Models"
   ]
  },
  {
   "cell_type": "code",
   "execution_count": 39,
   "metadata": {
    "scrolled": false
   },
   "outputs": [
    {
     "data": {
      "text/html": [
       "<div>\n",
       "<style scoped>\n",
       "    .dataframe tbody tr th:only-of-type {\n",
       "        vertical-align: middle;\n",
       "    }\n",
       "\n",
       "    .dataframe tbody tr th {\n",
       "        vertical-align: top;\n",
       "    }\n",
       "\n",
       "    .dataframe thead th {\n",
       "        text-align: right;\n",
       "    }\n",
       "</style>\n",
       "<table border=\"1\" class=\"dataframe\">\n",
       "  <thead>\n",
       "    <tr style=\"text-align: right;\">\n",
       "      <th></th>\n",
       "      <th>model</th>\n",
       "      <th>accuracy</th>\n",
       "      <th>precision</th>\n",
       "      <th>recall</th>\n",
       "      <th>f1_score</th>\n",
       "      <th>auc</th>\n",
       "    </tr>\n",
       "  </thead>\n",
       "  <tbody>\n",
       "    <tr>\n",
       "      <th>0</th>\n",
       "      <td>Logistic</td>\n",
       "      <td>0.689222</td>\n",
       "      <td>0.371437</td>\n",
       "      <td>0.638144</td>\n",
       "      <td>0.469562</td>\n",
       "      <td>0.670701</td>\n",
       "    </tr>\n",
       "    <tr>\n",
       "      <th>1</th>\n",
       "      <td>DecisionTree</td>\n",
       "      <td>0.722444</td>\n",
       "      <td>0.360080</td>\n",
       "      <td>0.370103</td>\n",
       "      <td>0.365023</td>\n",
       "      <td>0.594683</td>\n",
       "    </tr>\n",
       "    <tr>\n",
       "      <th>2</th>\n",
       "      <td>SVM</td>\n",
       "      <td>0.781000</td>\n",
       "      <td>0.493052</td>\n",
       "      <td>0.567010</td>\n",
       "      <td>0.527451</td>\n",
       "      <td>0.703406</td>\n",
       "    </tr>\n",
       "    <tr>\n",
       "      <th>3</th>\n",
       "      <td>RandomForest</td>\n",
       "      <td>0.811222</td>\n",
       "      <td>0.586878</td>\n",
       "      <td>0.419588</td>\n",
       "      <td>0.489330</td>\n",
       "      <td>0.669213</td>\n",
       "    </tr>\n",
       "  </tbody>\n",
       "</table>\n",
       "</div>"
      ],
      "text/plain": [
       "          model  accuracy  precision    recall  f1_score       auc\n",
       "0      Logistic  0.689222   0.371437  0.638144  0.469562  0.670701\n",
       "1  DecisionTree  0.722444   0.360080  0.370103  0.365023  0.594683\n",
       "2           SVM  0.781000   0.493052  0.567010  0.527451  0.703406\n",
       "3  RandomForest  0.811222   0.586878  0.419588  0.489330  0.669213"
      ]
     },
     "metadata": {},
     "output_type": "display_data"
    }
   ],
   "source": [
    "_, df_metrics = JLpyUtils.ML.inspection.compare.model_metrics(GridSearchCV.models_dict, metrics)"
   ]
  },
  {
   "cell_type": "code",
   "execution_count": 40,
   "metadata": {},
   "outputs": [
    {
     "data": {
      "text/plain": [
       "'RandomForest'"
      ]
     },
     "execution_count": 40,
     "metadata": {},
     "output_type": "execute_result"
    }
   ],
   "source": [
    "best_model_ID = df_metrics.iloc[-1,:]['model']\n",
    "best_model_ID"
   ]
  },
  {
   "cell_type": "code",
   "execution_count": 42,
   "metadata": {},
   "outputs": [
    {
     "data": {
      "text/plain": [
       "RandomForestClassifier(bootstrap=True, class_weight=None, criterion='gini',\n",
       "                       max_depth=None, max_features=0.25, max_leaf_nodes=None,\n",
       "                       min_impurity_decrease=0.0, min_impurity_split=None,\n",
       "                       min_samples_leaf=1, min_samples_split=2,\n",
       "                       min_weight_fraction_leaf=0.0, n_estimators=100,\n",
       "                       n_jobs=None, oob_score=False, random_state=None,\n",
       "                       verbose=0, warm_start=False)"
      ]
     },
     "execution_count": 42,
     "metadata": {},
     "output_type": "execute_result"
    }
   ],
   "source": [
    "model = GridSearchCV.models_dict[best_model_ID]['best_model']\n",
    "model"
   ]
  },
  {
   "cell_type": "markdown",
   "metadata": {},
   "source": [
    "## Inspect Best Model"
   ]
  },
  {
   "cell_type": "code",
   "execution_count": 79,
   "metadata": {},
   "outputs": [
    {
     "data": {
      "image/png": "[encoded data removed]",
      "text/plain": [
       "<Figure size 432x288 with 1 Axes>"
      ]
     },
     "metadata": {},
     "output_type": "display_data"
    }
   ],
   "source": [
    "JLpyUtils.ML.inspection.plot.feature_importance(model, \n",
    "                                                best_model_ID, \n",
    "                                                X.columns, \n",
    "                                                max_labels=50,\n",
    "                                                tight_layout_rect=(0,0,1.5,1))"
   ]
  },
  {
   "cell_type": "markdown",
   "metadata": {},
   "source": [
    "<font color='red'> In the bar chart above, we can see the 3 most important features contributing to credit default are PAY\\_0, BILL\\_AMT1, and AGE."
   ]
  },
  {
   "cell_type": "code",
   "execution_count": 88,
   "metadata": {},
   "outputs": [
    {
     "data": {
      "image/png": "[encoded data removed]",
      "text/plain": [
       "<Figure size 432x288 with 1 Axes>"
      ]
     },
     "metadata": {},
     "output_type": "display_data"
    }
   ],
   "source": [
    "Xy = pd.concat((X,y),axis=1)\n",
    "JLpyUtils.plot.corr_pareto(Xy.corr(), 'default payment next month', rect=(0,0,1.5,1))"
   ]
  },
  {
   "cell_type": "markdown",
   "metadata": {},
   "source": [
    "<font color='red'> By inspecting the correlation coeff. for each of these features we can observe that a higher PAY\\_0 ammount implies a higher likelyhood of default. A lower Bill\\_AMT1 implies a higher risk of default. Finally, older people are generally more likely to default on payments. It should be noted that the statements above are general guided principles, since there are obviously many features that contribute to a persons risk of default, and thus the model should be used for a more accurate assessment of an individuals risk. "
   ]
  },
  {
   "cell_type": "code",
   "execution_count": 241,
   "metadata": {},
   "outputs": [
    {
     "name": "stdout",
     "output_type": "stream",
     "text": [
      "Confusion matrix, without normalization\n",
      "[[6487  573]\n",
      " [1126  814]]\n"
     ]
    },
    {
     "data": {
      "image/png": "[encoded data removed]",
      "text/plain": [
       "<Figure size 432x288 with 2 Axes>"
      ]
     },
     "metadata": {},
     "output_type": "display_data"
    }
   ],
   "source": [
    "y_pred = model.predict(X_test)\n",
    "JLpyUtils.ML.inspection.plot.confusion_matrix(y_test, y_pred, classes=['No Default','Default'])"
   ]
  },
  {
   "cell_type": "markdown",
   "metadata": {},
   "source": [
    "# Maximize Success"
   ]
  },
  {
   "cell_type": "markdown",
   "metadata": {},
   "source": [
    "<font color='red'> If we were to use the model to exclude all persons the model predicts who will default, then the potential improvement our model offers can be analyzed by considering the first column in the confusion matrix (i.e. the counts for TP and FN predictions)\n",
    "    \n",
    "More speficially, the % of correct predictions our model will make will be defined by the precision of our No Default prediction"
   ]
  },
  {
   "cell_type": "code",
   "execution_count": 283,
   "metadata": {},
   "outputs": [
    {
     "name": "stdout",
     "output_type": "stream",
     "text": [
      "No_Default_precision: 0.852\n",
      "1-No_Default_precision: 0.148\n"
     ]
    }
   ],
   "source": [
    "classification_report = sklearn.metrics.classification_report(y_test, y_pred, output_dict=True)\n",
    "No_Default_precision = classification_report['0']['precision']\n",
    "print('No_Default_precision:',round(No_Default_precision,3))\n",
    "print('1-No_Default_precision:',round(1-No_Default_precision,3))"
   ]
  },
  {
   "cell_type": "markdown",
   "metadata": {},
   "source": [
    "<font color='red'> This implies ~15% of the time we will have someone default when we use the model to maximize success. We can compare this to present situation by inspecting the % of default currently occuring"
   ]
  },
  {
   "cell_type": "code",
   "execution_count": 286,
   "metadata": {},
   "outputs": [
    {
     "data": {
      "text/plain": [
       "0    0.7788\n",
       "1    0.2212\n",
       "Name: default payment next month, dtype: float64"
      ]
     },
     "execution_count": 286,
     "metadata": {},
     "output_type": "execute_result"
    }
   ],
   "source": [
    "y['default payment next month'].value_counts()/np.sum(y['default payment next month'].value_counts())"
   ]
  },
  {
   "cell_type": "markdown",
   "metadata": {},
   "source": [
    "<font color = 'red'> Here, we see ~22% of the cases are defaults. Thus, our lift for the model can be estimated as the % of defaults when using the model vs. the % of defaults when not using the model"
   ]
  },
  {
   "cell_type": "code",
   "execution_count": 287,
   "metadata": {},
   "outputs": [
    {
     "name": "stdout",
     "output_type": "stream",
     "text": [
      "lift: 1.4945945945945946\n"
     ]
    }
   ],
   "source": [
    "lift = 0.2212/0.148\n",
    "print('lift:',lift)"
   ]
  },
  {
   "cell_type": "code",
   "execution_count": 309,
   "metadata": {},
   "outputs": [
    {
     "data": {
      "text/plain": [
       "<module 'JLpyUtils.ML.inspection.maximize_success' from '/mr3_boltprod_john_t_leonard/Data_Science_Projects./JLpyUtils/JLpyUtils/ML/inspection/maximize_success.py'>"
      ]
     },
     "execution_count": 309,
     "metadata": {},
     "output_type": "execute_result"
    }
   ],
   "source": [
    "importlib.reload(JLpyUtils.ML.inspection.maximize_success)"
   ]
  },
  {
   "cell_type": "code",
   "execution_count": 310,
   "metadata": {},
   "outputs": [
    {
     "data": {
      "image/png": "[encoded data removed]",
      "text/plain": [
       "<Figure size 432x288 with 2 Axes>"
      ]
     },
     "metadata": {},
     "output_type": "display_data"
    },
    {
     "data": {
      "text/html": [
       "<div>\n",
       "<style scoped>\n",
       "    .dataframe tbody tr th:only-of-type {\n",
       "        vertical-align: middle;\n",
       "    }\n",
       "\n",
       "    .dataframe tbody tr th {\n",
       "        vertical-align: top;\n",
       "    }\n",
       "\n",
       "    .dataframe thead th {\n",
       "        text-align: right;\n",
       "    }\n",
       "</style>\n",
       "<table border=\"1\" class=\"dataframe\">\n",
       "  <thead>\n",
       "    <tr style=\"text-align: right;\">\n",
       "      <th></th>\n",
       "      <th>default payment next month</th>\n",
       "      <th>lift</th>\n",
       "    </tr>\n",
       "  </thead>\n",
       "  <tbody>\n",
       "    <tr>\n",
       "      <th>0</th>\n",
       "      <td>1</td>\n",
       "      <td>1.457393</td>\n",
       "    </tr>\n",
       "  </tbody>\n",
       "</table>\n",
       "</div>"
      ],
      "text/plain": [
       "   default payment next month      lift\n",
       "0                           1  1.457393"
      ]
     },
     "metadata": {},
     "output_type": "display_data"
    },
    {
     "data": {
      "text/html": [
       "<div>\n",
       "<style scoped>\n",
       "    .dataframe tbody tr th:only-of-type {\n",
       "        vertical-align: middle;\n",
       "    }\n",
       "\n",
       "    .dataframe tbody tr th {\n",
       "        vertical-align: top;\n",
       "    }\n",
       "\n",
       "    .dataframe thead th {\n",
       "        text-align: right;\n",
       "    }\n",
       "</style>\n",
       "<table border=\"1\" class=\"dataframe\">\n",
       "  <thead>\n",
       "    <tr style=\"text-align: right;\">\n",
       "      <th></th>\n",
       "      <th>default payment next month</th>\n",
       "      <th>counts</th>\n",
       "      <th>% of Total</th>\n",
       "    </tr>\n",
       "  </thead>\n",
       "  <tbody>\n",
       "    <tr>\n",
       "      <th>0</th>\n",
       "      <td>0</td>\n",
       "      <td>7060</td>\n",
       "      <td>78.444444</td>\n",
       "    </tr>\n",
       "    <tr>\n",
       "      <th>1</th>\n",
       "      <td>1</td>\n",
       "      <td>1940</td>\n",
       "      <td>21.555556</td>\n",
       "    </tr>\n",
       "  </tbody>\n",
       "</table>\n",
       "</div>"
      ],
      "text/plain": [
       "   default payment next month  counts  % of Total\n",
       "0                           0    7060   78.444444\n",
       "1                           1    1940   21.555556"
      ]
     },
     "metadata": {},
     "output_type": "display_data"
    },
    {
     "data": {
      "text/html": [
       "<div>\n",
       "<style scoped>\n",
       "    .dataframe tbody tr th:only-of-type {\n",
       "        vertical-align: middle;\n",
       "    }\n",
       "\n",
       "    .dataframe tbody tr th {\n",
       "        vertical-align: top;\n",
       "    }\n",
       "\n",
       "    .dataframe thead th {\n",
       "        text-align: right;\n",
       "    }\n",
       "</style>\n",
       "<table border=\"1\" class=\"dataframe\">\n",
       "  <thead>\n",
       "    <tr style=\"text-align: right;\">\n",
       "      <th></th>\n",
       "      <th>default payment next month</th>\n",
       "      <th>counts</th>\n",
       "      <th>% of Total</th>\n",
       "    </tr>\n",
       "  </thead>\n",
       "  <tbody>\n",
       "    <tr>\n",
       "      <th>0</th>\n",
       "      <td>0</td>\n",
       "      <td>6487</td>\n",
       "      <td>85.20951</td>\n",
       "    </tr>\n",
       "    <tr>\n",
       "      <th>1</th>\n",
       "      <td>1</td>\n",
       "      <td>1126</td>\n",
       "      <td>14.79049</td>\n",
       "    </tr>\n",
       "  </tbody>\n",
       "</table>\n",
       "</div>"
      ],
      "text/plain": [
       "   default payment next month  counts  % of Total\n",
       "0                           0    6487    85.20951\n",
       "1                           1    1126    14.79049"
      ]
     },
     "metadata": {},
     "output_type": "display_data"
    }
   ],
   "source": [
    "drop_label_categories=[1] # a value of 1 implies a default payment, so we wish to drop these customers\n",
    "df_lift, _, _, y_test_value_counts, y_drop_value_counts = JLpyUtils.ML.inspection.maximize_success.dropping_label_categories(model, X_test, y_test, drop_label_categories=[1])\n",
    "\n",
    "display(df_lift)\n",
    "display(y_test_value_counts)\n",
    "display(y_drop_value_counts)\n"
   ]
  },
  {
   "cell_type": "markdown",
   "metadata": {},
   "source": [
    "<font color = 'red'> Based on the results above, if we decide to drop/deny any customers who the model predicts will default on their loan, we can reduce the number of defaults by ~1.5X (from 22% to 15%)"
   ]
  },
  {
   "cell_type": "markdown",
   "metadata": {},
   "source": [
    "# Prepare Your Report"
   ]
  },
  {
   "cell_type": "markdown",
   "metadata": {},
   "source": [
    "__This task requires that you prepare one deliverable and one Juypter Notebook:__\n",
    "\n",
    "1. Customer Default Identification Report that addresses:\n",
    "\n",
    "Problem:\n",
    "An increase in customer default rates is bad for Credit One since its business is approving customers for loans in the first place. This is likely to result in the loss of Credit One's business customers.\n",
    "\n",
    "Questions to Investigate:\n",
    "\n",
    "How do you ensure that customers can/will pay their loans?\n",
    "Can we approve customers with high certainty?\n",
    "As you progress through the task, begin thinking about how to solve the company's problem.\n",
    "\n",
    "Here are some lessons the company learned from addressing a similar problem last year:\n",
    "\n",
    "We cannot control customer spending habits\n",
    "We cannot always go from what we find in our analysis to the underlying \"why\"\n",
    "We must focus on the problems we can solve:\n",
    "Which attributes in the data can we deem to be statistically significant to the problem at hand?\n",
    "What concrete information can we derive from the data we have?\n",
    "What proven methods can we use to uncover more information and why? \n",
    "Guido is expecting a report in a few days:\n",
    "Your report should be a one to three page Word document that includes rules you believe provide insights, any relevant visualizations, and the answers to the company's questions.\n",
    "It should also include any observations that you've made and any recommendations you might have, supported by evidence uncovered in your analysis.\n",
    "2. Your Data Science work should be submitted as a Juypyter Notebook and in your GitHub account. "
   ]
  }
 ],
 "metadata": {
  "kernelspec": {
   "display_name": "Python 3",
   "language": "python",
   "name": "python3"
  },
  "language_info": {
   "codemirror_mode": {
    "name": "ipython",
    "version": 3
   },
   "file_extension": ".py",
   "mimetype": "text/x-python",
   "name": "python",
   "nbconvert_exporter": "python",
   "pygments_lexer": "ipython3",
   "version": "3.7.2"
  },
  "toc": {
   "base_numbering": 1,
   "nav_menu": {},
   "number_sections": true,
   "sideBar": true,
   "skip_h1_title": false,
   "title_cell": "Table of Contents",
   "title_sidebar": "Contents",
   "toc_cell": false,
   "toc_position": {},
   "toc_section_display": true,
   "toc_window_display": false
  },
  "varInspector": {
   "cols": {
    "lenName": 16,
    "lenType": 16,
    "lenVar": 40
   },
   "kernels_config": {
    "python": {
     "delete_cmd_postfix": "",
     "delete_cmd_prefix": "del ",
     "library": "var_list.py",
     "varRefreshCmd": "print(var_dic_list())"
    },
    "r": {
     "delete_cmd_postfix": ") ",
     "delete_cmd_prefix": "rm(",
     "library": "var_list.r",
     "varRefreshCmd": "cat(var_dic_list()) "
    }
   },
   "types_to_exclude": [
    "module",
    "function",
    "builtin_function_or_method",
    "instance",
    "_Feature"
   ],
   "window_display": false
  }
 },
 "nbformat": 4,
 "nbformat_minor": 2
}
